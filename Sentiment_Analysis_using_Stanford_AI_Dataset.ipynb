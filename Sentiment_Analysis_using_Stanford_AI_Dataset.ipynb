{
 "cells": [
  {
   "cell_type": "markdown",
   "metadata": {
    "colab_type": "text",
    "id": "view-in-github"
   },
   "source": [
    "<a href=\"https://colab.research.google.com/github/3ZadeSSG/Minor-Project-Sentiment-Analysis/blob/master/Sentiment_Analysis_using_Stanford_AI_Dataset.ipynb\" target=\"_parent\"><img src=\"https://colab.research.google.com/assets/colab-badge.svg\" alt=\"Open In Colab\"/></a>"
   ]
  },
  {
   "cell_type": "code",
   "execution_count": 0,
   "metadata": {
    "colab": {},
    "colab_type": "code",
    "id": "k3kr18m0qK7s"
   },
   "outputs": [],
   "source": [
    "from google.colab import files,drive"
   ]
  },
  {
   "cell_type": "code",
   "execution_count": 2,
   "metadata": {
    "colab": {
     "base_uri": "https://localhost:8080/",
     "height": 122
    },
    "colab_type": "code",
    "id": "z523O_B3qQR0",
    "outputId": "f8636b2f-17b7-47f3-9585-d9cf19e80a0a"
   },
   "outputs": [
    {
     "name": "stdout",
     "output_type": "stream",
     "text": [
      "Go to this URL in a browser: https://accounts.google.com/o/oauth2/auth?client_id=947318989803-6bn6qk8qdgf4n4g3pfee6491hc0brc4i.apps.googleusercontent.com&redirect_uri=urn%3Aietf%3Awg%3Aoauth%3A2.0%3Aoob&scope=email%20https%3A%2F%2Fwww.googleapis.com%2Fauth%2Fdocs.test%20https%3A%2F%2Fwww.googleapis.com%2Fauth%2Fdrive%20https%3A%2F%2Fwww.googleapis.com%2Fauth%2Fdrive.photos.readonly%20https%3A%2F%2Fwww.googleapis.com%2Fauth%2Fpeopleapi.readonly&response_type=code\n",
      "\n",
      "Enter your authorization code:\n",
      "··········\n",
      "Mounted at /content/drive/\n"
     ]
    }
   ],
   "source": [
    "drive.mount('/content/drive/')"
   ]
  },
  {
   "cell_type": "code",
   "execution_count": 3,
   "metadata": {
    "colab": {
     "base_uri": "https://localhost:8080/",
     "height": 204
    },
    "colab_type": "code",
    "id": "Hgkd5h8BG3N-",
    "outputId": "48b2d9c0-2803-49dd-c5d6-003f81b6a07e"
   },
   "outputs": [
    {
     "name": "stdout",
     "output_type": "stream",
     "text": [
      "--2019-04-03 05:25:20--  https://raw.githubusercontent.com/3ZadeSSG/Minor-Project-Sentiment-Analysis/master/myModelHelper.py\n",
      "Resolving raw.githubusercontent.com (raw.githubusercontent.com)... 151.101.0.133, 151.101.64.133, 151.101.128.133, ...\n",
      "Connecting to raw.githubusercontent.com (raw.githubusercontent.com)|151.101.0.133|:443... connected.\n",
      "HTTP request sent, awaiting response... 200 OK\n",
      "Length: 2509 (2.5K) [text/plain]\n",
      "Saving to: ‘myModelHelper.py’\n",
      "\n",
      "\r",
      "myModelHelper.py      0%[                    ]       0  --.-KB/s               \r",
      "myModelHelper.py    100%[===================>]   2.45K  --.-KB/s    in 0s      \n",
      "\n",
      "2019-04-03 05:25:20 (51.3 MB/s) - ‘myModelHelper.py’ saved [2509/2509]\n",
      "\n"
     ]
    }
   ],
   "source": [
    "# Get the generated helper functions to process the data and create proper datasets to be converted into tensors\n",
    "!wget -c https://raw.githubusercontent.com/3ZadeSSG/Minor-Project-Sentiment-Analysis/master/myModelHelper.py"
   ]
  },
  {
   "cell_type": "code",
   "execution_count": 4,
   "metadata": {
    "colab": {
     "base_uri": "https://localhost:8080/",
     "height": 204
    },
    "colab_type": "code",
    "id": "85fw4k4rHawu",
    "outputId": "094ace97-d071-4176-8d92-23cbef4023ec"
   },
   "outputs": [
    {
     "name": "stdout",
     "output_type": "stream",
     "text": [
      "--2019-04-03 05:25:23--  http://ai.stanford.edu/~amaas/data/sentiment/aclImdb_v1.tar.gz\n",
      "Resolving ai.stanford.edu (ai.stanford.edu)... 171.64.68.10\n",
      "Connecting to ai.stanford.edu (ai.stanford.edu)|171.64.68.10|:80... connected.\n",
      "HTTP request sent, awaiting response... 200 OK\n",
      "Length: 84125825 (80M) [application/x-gzip]\n",
      "Saving to: ‘aclImdb_v1.tar.gz’\n",
      "\n",
      "aclImdb_v1.tar.gz   100%[===================>]  80.23M  24.6MB/s    in 3.3s    \n",
      "\n",
      "2019-04-03 05:25:27 (24.6 MB/s) - ‘aclImdb_v1.tar.gz’ saved [84125825/84125825]\n",
      "\n"
     ]
    }
   ],
   "source": [
    "# Get data directly from url\n",
    "!wget http://ai.stanford.edu/~amaas/data/sentiment/aclImdb_v1.tar.gz"
   ]
  },
  {
   "cell_type": "code",
   "execution_count": 0,
   "metadata": {
    "colab": {},
    "colab_type": "code",
    "id": "Fzb4-4g-Hhk1"
   },
   "outputs": [],
   "source": [
    "# Extract data\n",
    "!tar -xvzf aclImdb_v1.tar.gz"
   ]
  },
  {
   "cell_type": "code",
   "execution_count": 0,
   "metadata": {
    "colab": {},
    "colab_type": "code",
    "id": "z48JUwW7GYeB"
   },
   "outputs": [],
   "source": [
    "import torch\n",
    "import torch.nn as nn\n",
    "from torch.utils.data import TensorDataset,DataLoader\n",
    "from myModelHelper import *\n",
    "import matplotlib.pyplot as plt\n"
   ]
  },
  {
   "cell_type": "code",
   "execution_count": 0,
   "metadata": {
    "colab": {},
    "colab_type": "code",
    "id": "A0zDAkRQGp-O"
   },
   "outputs": [],
   "source": [
    "class SentimentNetwork(nn.Module):\n",
    "  def __init__(self,vocabulary_size,output_size,embedding_dimension,hidden_dimension,number_of_layers,dropout_probability=0.5):\n",
    "    super(SentimentNetwork,self).__init__()\n",
    "    # class data for weight matrix size\n",
    "    self.output_size=output_size\n",
    "    self.number_of_layers=number_of_layers\n",
    "    self.hidden_dimension=hidden_dimension\n",
    "    # create the embedding layer to reduce dimension \n",
    "    # and LSTM layer containing LSTM cells \n",
    "    self.embedding=nn.Embedding(vocabulary_size,embedding_dimension)\n",
    "    self.lstm=nn.LSTM(embedding_dimension,hidden_dimension,number_of_layers,dropout=dropout_probability,batch_first=True)\n",
    "    \n",
    "    # Create dropout layer as a regularization method to reduct overfitting\n",
    "    # this will disable some units in forward pass, thus preventing \n",
    "    # a particular set of node's weights getting updated while others remain unused\n",
    "    self.dropout=nn.Dropout(dropout_probability)\n",
    "    \n",
    "    # attach final  linear layer with sigmoid function\n",
    "   \n",
    "    self.finalLayer=nn.Linear(hidden_dimension,output_size)\n",
    "    self.sigmoid=nn.Sigmoid()\n",
    "   \n",
    "  def forward(self,x,hidden):\n",
    "    batch_size=x.size(0)\n",
    "    embedding_output=self.embedding(x)\n",
    "    \n",
    "    #lstm will take the current input and hidden state as input \n",
    "    # and will generate the output to be feed at the linear layer\n",
    "    lstm_output,hidden=self.lstm(embedding_output,hidden)\n",
    "    lstm_output=lstm_output.contiguous().view(-1,self.hidden_dimension)\n",
    "    \n",
    "    output=self.dropout(lstm_output)\n",
    "    output=self.finalLayer(output)\n",
    "    \n",
    "    #call the sigmoid function on current output of final layer\n",
    "    sigmoid_output=self.sigmoid(output)\n",
    "    sigmoid_output=sigmoid_output.view(batch_size,-1)\n",
    "    #only get the last position output for all batches\n",
    "    sigmoid_output=sigmoid_output[:,-1]\n",
    "    \n",
    "    #current sigmoid output and a hidden state to be fed as input for next pass\n",
    "    # into the LSTM cells, so that they will be dependent on the previous state\n",
    "    return sigmoid_output,hidden\n",
    "  \n",
    "  def initialize_hidden_state(self,batch_size):\n",
    "    # At first the hidden state will not hold any information, hence we need to\n",
    "    # initialize them with zeros\n",
    "    # Number_of_Layers x Batch_Size x Hidden_Dimension\n",
    "    weight=next(self.parameters()).data\n",
    "    if(torch.cuda.is_available()):\n",
    "      # if GPU is available then initialize the weights parallely\n",
    "      hidden=(weight.new(self.number_of_layers,batch_size,self.hidden_dimension).zero_().cuda(),weight.new(self.number_of_layers,batch_size,self.hidden_dimension).zero_().cuda())\n",
    "    else:\n",
    "      hidden=(weight.new(self.number_of_layers,batch_size,self.hidden_dimension).zero_(),weight.new(self.number_of_layers,batch_size,self.hidden_dimension).zero_())\n",
    "      \n",
    "    return hidden\n",
    "      \n",
    "   "
   ]
  },
  {
   "cell_type": "code",
   "execution_count": 0,
   "metadata": {
    "colab": {},
    "colab_type": "code",
    "id": "a41iJq2QGqAP"
   },
   "outputs": [],
   "source": [
    "def buildNetwork():\n",
    "  #Our model parameters\n",
    "  vocabulary_size=len(vocab_to_int)+1\n",
    "  output_size=1\n",
    "  embedding_dimension=200\n",
    "  hidden_dimension=256\n",
    "  number_of_layers=2\n",
    "  \n",
    "  model=SentimentNetwork(vocabulary_size,output_size,embedding_dimension,hidden_dimension,number_of_layers)\n",
    "  \n",
    "  # Alpha value\n",
    "  learning_rate=0.003\n",
    "  \n",
    "  # Error calculating formula (Mean Square Error)\n",
    "  criterion = nn.MSELoss() \n",
    " \n",
    "  #Adam optimization technique for first-order gradient-based optimization\n",
    "  optimizer=torch.optim.Adam(model.parameters(),lr=learning_rate)\n",
    "  \n",
    "  return model,criterion,optimizer\n",
    "  "
   ]
  },
  {
   "cell_type": "code",
   "execution_count": 0,
   "metadata": {
    "colab": {},
    "colab_type": "code",
    "id": "9uf1QFQPT5Ra"
   },
   "outputs": [],
   "source": [
    "def trainNetwork(model,clip_value,epochs,print_interval,criterion,optimizer):\n",
    "  Iteration=[]\n",
    "  Training_Loss=[]\n",
    "  Validation_Loss=[]\n",
    "  \n",
    "  minimum_validation_loss=np.Inf\n",
    "  \n",
    "  # Since each epoch goes over all data and\n",
    "  # each iteration goes over the data in batches\n",
    "  count=0\n",
    "  \n",
    "  # move model to GPU \n",
    "  model.cuda()\n",
    "  \n",
    "  #put the model into training model so that the gradients will \n",
    "  # be calculated\n",
    "  model.train()\n",
    "  for i in range(epochs):\n",
    "    # for each epoch perform a forward pass for all batches\n",
    "    # and around epoch 4 reduce the learning rate\n",
    "    hidden_state=model.initialize_hidden_state(batch_size)\n",
    "    if(i==3):\n",
    "      print(\"\\n\\nReducing the learning rate!\\n\" )\n",
    "      optimizer=torch.optim.Adam(model.parameters(),lr=0.0002)\n",
    "    \n",
    "    for inputs,labels in train_loader:\n",
    "      count+=1\n",
    "      # move the data to GPU\n",
    "      inputs,labels=inputs.cuda(),labels.cuda()\n",
    "      \n",
    "      #create new variable for hidden state otherwise it will include all\n",
    "      #pervious states\n",
    "      hidden_state=tuple([element.data for element in hidden_state])\n",
    "      \n",
    "      model.zero_grad()\n",
    "      \n",
    "      inputs=inputs.long()\n",
    "      output,hidden_state=model(inputs,hidden_state)\n",
    "      \n",
    "      #calculate the loss to backpropagare to model\n",
    "      #loss=torch.sqrt(criterion(output.squeeze(),labels.float()))\n",
    "      loss=criterion(output.squeeze(),labels.float())\n",
    "      loss.backward()\n",
    "\n",
    "      \n",
    "      nn.utils.clip_grad_norm_(model.parameters(),clip)\n",
    "      optimizer.step()\n",
    "      \n",
    "      if(count%print_interval==0):\n",
    "        temp_hidden=model.initialize_hidden_state(batch_size)\n",
    "        temp_losses=[]\n",
    "        model.eval()\n",
    "        for inputs,labels in validation_loader:\n",
    "          temp_hidden=tuple([element.data for element in temp_hidden])\n",
    "          inputs,labels=inputs.cuda().long(),labels.cuda()\n",
    "          \n",
    "          output,temp_hidden=model(inputs,temp_hidden)\n",
    "          validation_loss=criterion(output.squeeze(),labels.float())\n",
    "          temp_losses.append(validation_loss.item())\n",
    "        \n",
    "        model.train()\n",
    "        print(\"Epoch: {}\\tIteration: {}\\tTraining Loss: {:.7f}\\tValidation Loss: {:.7f}\".format(\n",
    "        (i+1),count,loss.item(),np.mean(temp_losses)))\n",
    "        Iteration.append(count)\n",
    "        Training_Loss.append(loss.item())\n",
    "        Validation_Loss.append(np.mean(temp_losses))\n",
    "        \n",
    "        if np.mean(temp_losses)<minimum_validation_loss:\n",
    "            save_checkpoint(model,\"checkpoint.pth\")\n",
    "            minimum_validation_loss=np.mean(temp_losses)\n",
    "            print(\"Validation loss decreased  hence saving checkpoint successfully\")\n",
    "                  \n",
    "         \n",
    "\n",
    "\n",
    "  plt.plot(Iteration,Training_Loss)\n",
    "  plt.plot(Iteration,Validation_Loss)\n",
    "  plt.xlabel('Iteration')\n",
    "  plt.ylabel('Loss')\n",
    "  plt.legend(['Training Loss','Validation Loss'], loc='upper left')\n",
    "  plt.show()\n",
    "  \n",
    "        "
   ]
  },
  {
   "cell_type": "code",
   "execution_count": 0,
   "metadata": {
    "colab": {},
    "colab_type": "code",
    "id": "VMCv-pJkTL58"
   },
   "outputs": [],
   "source": [
    "def save_checkpoint(model,fileLocation):\n",
    "  # save the current state_dict which contains all the weights of the network\n",
    "  torch.save(model.state_dict(),fileLocation)\n",
    "  "
   ]
  },
  {
   "cell_type": "code",
   "execution_count": 0,
   "metadata": {
    "colab": {},
    "colab_type": "code",
    "id": "DqJmKTYwTZjC"
   },
   "outputs": [],
   "source": [
    "def load_Checkpoint(fileLocation):\n",
    "  #model=buildNetwork()\n",
    "  model,criterion,optimizer=buildNetwork()\n",
    "  model.load_state_dict(torch.load(fileLocation))\n",
    "  return model"
   ]
  },
  {
   "cell_type": "code",
   "execution_count": 0,
   "metadata": {
    "colab": {},
    "colab_type": "code",
    "id": "UB0x9fla3AmK"
   },
   "outputs": [],
   "source": [
    "def checkAccuracy(model,test_loader):\n",
    "  #move model to GPU\n",
    "  model.cuda()\n",
    "  \n",
    "  test_losses=[]\n",
    "  correct_prediction=0\n",
    "  \n",
    "  #set initial state to zero\n",
    "  hidden_state=model.initialize_hidden_state(batch_size)\n",
    "  \n",
    "  # set the model into evaluation mode, so that we don't need to calculate\n",
    "  # the gradients\n",
    "  model.eval()\n",
    "  \n",
    "  for inputs,labels in test_loader:\n",
    "    \n",
    "    # move the data and labels into GPU\n",
    "    inputs,labels=inputs.cuda().long(),labels.cuda().long()\n",
    "    \n",
    "    output,hidden_state=model(inputs,hidden_state)\n",
    "    # labels are initially long or int, we need to conver them into float\n",
    "    # so that loss cab be calculated in float value\n",
    "    test_loss=criterion(output.squeeze(),labels.float())\n",
    "    test_losses.append(test_loss.item())\n",
    "    \n",
    "    # get the prediction either 1 or 0\n",
    "    prediction=torch.round(output.squeeze())\n",
    "    \n",
    "    correct_tensor=prediction.eq(labels.float().view_as(prediction))   \n",
    "    correct=np.squeeze(correct_tensor.cpu().numpy())\n",
    "    correct_prediction+=np.sum(correct)\n",
    "  \n",
    "  #print(np.mean(test_losses))\n",
    "  print(\"Accuracy: {:.4f}\".format(correct_prediction/len(test_loader.dataset)))\n",
    "  "
   ]
  },
  {
   "cell_type": "code",
   "execution_count": 0,
   "metadata": {
    "colab": {},
    "colab_type": "code",
    "id": "-DQjhHHKdjS-"
   },
   "outputs": [],
   "source": [
    "def tokenize_sentence(sentence):\n",
    "  sentence=sentence.lower()\n",
    "  \n",
    "  #remove punctuation\n",
    "  sentence=''.join([letter for letter in sentence if letter not in punctuation])\n",
    "  \n",
    "  test_words=sentence.split()\n",
    "  tokens=[]\n",
    "  sample=[]\n",
    "  for word in test_words:\n",
    "      if word in vocab_to_int:\n",
    "          sample.append(word)\n",
    "  tokens.append([vocab_to_int[word] for word in sample])\n",
    "  return tokens"
   ]
  },
  {
   "cell_type": "code",
   "execution_count": 0,
   "metadata": {
    "colab": {},
    "colab_type": "code",
    "id": "tFAQve__djXX"
   },
   "outputs": [],
   "source": [
    "def predict(model,sentence,sequence_length=200):\n",
    "  model.cuda()\n",
    "  model.eval()\n",
    "  \n",
    "  test_ints=tokenize_sentence(sentence)\n",
    "  features=featuresPadding(test_ints,sequence_length)\n",
    "  feature_tensor=torch.from_numpy(features)\n",
    "  batch_size=feature_tensor.size(0)\n",
    "  \n",
    "  hidden_state=model.initialize_hidden_state(batch_size)\n",
    "  feature_tensor=feature_tensor.cuda().long()\n",
    "  output,hidden_state=model(feature_tensor,hidden_state)\n",
    "  prediction=torch.round(output.squeeze())\n",
    "  if(prediction.item()==0):\n",
    "    print(\"{:.4f}\\t Negative sentence!\".format(output.item()))\n",
    "  else:\n",
    "    print(\"{:.4f}\\t Positive sentence!\".format(output.item()))\n",
    "  "
   ]
  },
  {
   "cell_type": "code",
   "execution_count": 0,
   "metadata": {
    "colab": {},
    "colab_type": "code",
    "id": "KZTaWPd2Gp1X"
   },
   "outputs": [],
   "source": [
    "negativeDataPath=\"aclImdb/train/neg/\"\n",
    "positiveDataPath=\"aclImdb/train/pos/\"\n",
    "fileLocation='/content/drive/My Drive/SEM-III Project/SentimentAnalysisCheckpoint.pth'"
   ]
  },
  {
   "cell_type": "code",
   "execution_count": 0,
   "metadata": {
    "colab": {},
    "colab_type": "code",
    "id": "D1EoH7-hGp33"
   },
   "outputs": [],
   "source": [
    "reviews,labels=createData(positiveDataPath,negativeDataPath)"
   ]
  },
  {
   "cell_type": "code",
   "execution_count": 17,
   "metadata": {
    "colab": {
     "base_uri": "https://localhost:8080/",
     "height": 34
    },
    "colab_type": "code",
    "id": "0yhFfFOzueUL",
    "outputId": "c3a343da-4ed8-4ae6-c6bd-59c04ef3d1b8"
   },
   "outputs": [
    {
     "data": {
      "text/plain": [
       "(33151741, 225000)"
      ]
     },
     "execution_count": 17,
     "metadata": {
      "tags": []
     },
     "output_type": "execute_result"
    }
   ],
   "source": [
    "len(reviews),len(labels)"
   ]
  },
  {
   "cell_type": "code",
   "execution_count": 0,
   "metadata": {
    "colab": {},
    "colab_type": "code",
    "id": "DPVaPTNZIbSu"
   },
   "outputs": [],
   "source": [
    "seq_length=200"
   ]
  },
  {
   "cell_type": "code",
   "execution_count": 0,
   "metadata": {
    "colab": {},
    "colab_type": "code",
    "id": "Pjak8byWGp5-"
   },
   "outputs": [],
   "source": [
    "features,encoded_labels,vocab_to_int=getFeaturesLabels(reviews,labels,seq_length)\n",
    "\n",
    "train_x,train_y,test_x,test_y,val_x,val_y=createTrainTestValidateData(0.8,features,encoded_labels)"
   ]
  },
  {
   "cell_type": "code",
   "execution_count": 0,
   "metadata": {
    "colab": {},
    "colab_type": "code",
    "id": "rP1Y1i4FGp8A"
   },
   "outputs": [],
   "source": [
    "train_data = TensorDataset(torch.from_numpy(train_x), torch.from_numpy(train_y))\n",
    "validation_data = TensorDataset(torch.from_numpy(val_x), torch.from_numpy(val_y))\n",
    "test_data = TensorDataset(torch.from_numpy(test_x), torch.from_numpy(test_y))\n",
    "batch_size=100\n",
    "train_loader = DataLoader(train_data, shuffle=True, batch_size=batch_size)\n",
    "validation_loader = DataLoader(validation_data, shuffle=True, batch_size=batch_size)\n",
    "test_loader = DataLoader(test_data, shuffle=True, batch_size=batch_size)"
   ]
  },
  {
   "cell_type": "code",
   "execution_count": 21,
   "metadata": {
    "colab": {
     "base_uri": "https://localhost:8080/",
     "height": 68
    },
    "colab_type": "code",
    "id": "vxzyRGHMumss",
    "outputId": "a795c7fe-5cec-4aec-8ec6-dee20406387a"
   },
   "outputs": [
    {
     "name": "stdout",
     "output_type": "stream",
     "text": [
      "Training: \t (20000, 200)\n",
      "Validation: \t (2500, 200)\n",
      "Test: \t\t (2500, 200)\n"
     ]
    }
   ],
   "source": [
    "print(\"Training: \\t\",np.shape(train_x))\n",
    "print(\"Validation: \\t\",np.shape(val_x))\n",
    "print(\"Test: \\t\\t\",np.shape(test_x))\n"
   ]
  },
  {
   "cell_type": "code",
   "execution_count": 0,
   "metadata": {
    "colab": {},
    "colab_type": "code",
    "id": "UbEv55TFT5UK"
   },
   "outputs": [],
   "source": [
    "model,criterion,optimizer=buildNetwork()"
   ]
  },
  {
   "cell_type": "code",
   "execution_count": 23,
   "metadata": {
    "colab": {
     "base_uri": "https://localhost:8080/",
     "height": 136
    },
    "colab_type": "code",
    "id": "V3kFoVxm3AeW",
    "outputId": "d941cd5a-7bd9-49ca-f915-763faebbac7c"
   },
   "outputs": [
    {
     "data": {
      "text/plain": [
       "SentimentNetwork(\n",
       "  (embedding): Embedding(121365, 200)\n",
       "  (lstm): LSTM(200, 256, num_layers=2, batch_first=True, dropout=0.5)\n",
       "  (dropout): Dropout(p=0.5)\n",
       "  (finalLayer): Linear(in_features=256, out_features=1, bias=True)\n",
       "  (sigmoid): Sigmoid()\n",
       ")"
      ]
     },
     "execution_count": 23,
     "metadata": {
      "tags": []
     },
     "output_type": "execute_result"
    }
   ],
   "source": [
    "model.cuda()"
   ]
  },
  {
   "cell_type": "code",
   "execution_count": 0,
   "metadata": {
    "colab": {},
    "colab_type": "code",
    "id": "ZS9jGePv3Ag1"
   },
   "outputs": [],
   "source": [
    "clip=5 \n",
    "print_interval = 100\n",
    "epochs = 16 "
   ]
  },
  {
   "cell_type": "code",
   "execution_count": 25,
   "metadata": {
    "colab": {
     "base_uri": "https://localhost:8080/",
     "height": 1109
    },
    "colab_type": "code",
    "id": "enEkdI103Ajl",
    "outputId": "e6e1f524-33af-441b-9432-47c71162d8a2"
   },
   "outputs": [
    {
     "name": "stdout",
     "output_type": "stream",
     "text": [
      "Epoch: 1\tIteration: 100\tTraining Loss: 0.2419987\tValidation Loss: 0.3842840\n",
      "Validation loss decreased  hence saving checkpoint successfully\n",
      "Epoch: 1\tIteration: 200\tTraining Loss: 0.2213434\tValidation Loss: 0.3699962\n",
      "Validation loss decreased  hence saving checkpoint successfully\n",
      "Epoch: 2\tIteration: 300\tTraining Loss: 0.2160254\tValidation Loss: 0.4457715\n",
      "Epoch: 2\tIteration: 400\tTraining Loss: 0.1865130\tValidation Loss: 0.3050369\n",
      "Validation loss decreased  hence saving checkpoint successfully\n",
      "Epoch: 3\tIteration: 500\tTraining Loss: 0.1262095\tValidation Loss: 0.1856487\n",
      "Validation loss decreased  hence saving checkpoint successfully\n",
      "Epoch: 3\tIteration: 600\tTraining Loss: 0.0883245\tValidation Loss: 0.1029302\n",
      "Validation loss decreased  hence saving checkpoint successfully\n",
      "\n",
      "\n",
      "Reducing the learning rate!\n",
      "\n",
      "Epoch: 4\tIteration: 700\tTraining Loss: 0.0716217\tValidation Loss: 0.1692206\n",
      "Epoch: 4\tIteration: 800\tTraining Loss: 0.0255927\tValidation Loss: 0.1650525\n",
      "Epoch: 5\tIteration: 900\tTraining Loss: 0.0918349\tValidation Loss: 0.1775750\n",
      "Epoch: 5\tIteration: 1000\tTraining Loss: 0.0587665\tValidation Loss: 0.1735725\n",
      "Epoch: 6\tIteration: 1100\tTraining Loss: 0.0877946\tValidation Loss: 0.1541979\n",
      "Epoch: 6\tIteration: 1200\tTraining Loss: 0.0605707\tValidation Loss: 0.1623802\n",
      "Epoch: 7\tIteration: 1300\tTraining Loss: 0.1009503\tValidation Loss: 0.1752350\n",
      "Epoch: 7\tIteration: 1400\tTraining Loss: 0.0510028\tValidation Loss: 0.1893917\n",
      "Epoch: 8\tIteration: 1500\tTraining Loss: 0.0412471\tValidation Loss: 0.1687321\n",
      "Epoch: 8\tIteration: 1600\tTraining Loss: 0.0583114\tValidation Loss: 0.1746036\n",
      "Epoch: 9\tIteration: 1700\tTraining Loss: 0.0549242\tValidation Loss: 0.1471289\n",
      "Epoch: 9\tIteration: 1800\tTraining Loss: 0.0528056\tValidation Loss: 0.1908657\n",
      "Epoch: 10\tIteration: 1900\tTraining Loss: 0.0566554\tValidation Loss: 0.1626235\n",
      "Epoch: 10\tIteration: 2000\tTraining Loss: 0.0325702\tValidation Loss: 0.1751327\n",
      "Epoch: 11\tIteration: 2100\tTraining Loss: 0.0542078\tValidation Loss: 0.1766137\n",
      "Epoch: 11\tIteration: 2200\tTraining Loss: 0.0438879\tValidation Loss: 0.1871174\n",
      "Epoch: 12\tIteration: 2300\tTraining Loss: 0.0290445\tValidation Loss: 0.1619650\n",
      "Epoch: 12\tIteration: 2400\tTraining Loss: 0.0602058\tValidation Loss: 0.1957815\n",
      "Epoch: 13\tIteration: 2500\tTraining Loss: 0.0163866\tValidation Loss: 0.1630351\n",
      "Epoch: 13\tIteration: 2600\tTraining Loss: 0.0667861\tValidation Loss: 0.1744410\n",
      "Epoch: 14\tIteration: 2700\tTraining Loss: 0.0019164\tValidation Loss: 0.1869376\n",
      "Epoch: 14\tIteration: 2800\tTraining Loss: 0.0030349\tValidation Loss: 0.1939242\n",
      "Epoch: 15\tIteration: 2900\tTraining Loss: 0.0101840\tValidation Loss: 0.1794558\n",
      "Epoch: 15\tIteration: 3000\tTraining Loss: 0.0424977\tValidation Loss: 0.1833985\n",
      "Epoch: 16\tIteration: 3100\tTraining Loss: 0.0010941\tValidation Loss: 0.1833896\n",
      "Epoch: 16\tIteration: 3200\tTraining Loss: 0.0147752\tValidation Loss: 0.2267526\n"
     ]
    },
    {
     "data": {
      "image/png": "[encoded data removed]",
      "text/plain": [
       "<Figure size 576x396 with 1 Axes>"
      ]
     },
     "metadata": {
      "tags": []
     },
     "output_type": "display_data"
    },
    {
     "name": "stdout",
     "output_type": "stream",
     "text": [
      "\n",
      "\n",
      "Training Time: 560.5828192234039\n"
     ]
    }
   ],
   "source": [
    "import time\n",
    "start_time=time.time()\n",
    "trainNetwork(model,clip,epochs,print_interval,criterion,optimizer)\n",
    "print(\"\\n\\nTraining Time: {}\".format(time.time()-start_time))"
   ]
  },
  {
   "cell_type": "markdown",
   "metadata": {
    "colab_type": "text",
    "id": "XoGaFKm9uI4h"
   },
   "source": [
    "### Checking the overfitted model"
   ]
  },
  {
   "cell_type": "code",
   "execution_count": 27,
   "metadata": {
    "colab": {
     "base_uri": "https://localhost:8080/",
     "height": 34
    },
    "colab_type": "code",
    "id": "eOdZ7QRfdjVt",
    "outputId": "739426e1-2fd7-46e6-9830-29060eb050c9"
   },
   "outputs": [
    {
     "name": "stdout",
     "output_type": "stream",
     "text": [
      "Accuracy: 0.7388\n"
     ]
    }
   ],
   "source": [
    "checkAccuracy(model,test_loader)"
   ]
  },
  {
   "cell_type": "code",
   "execution_count": 28,
   "metadata": {
    "colab": {
     "base_uri": "https://localhost:8080/",
     "height": 34
    },
    "colab_type": "code",
    "id": "eUNkUWNlT5W5",
    "outputId": "a3cafe3e-89a3-412a-8a3a-7aba2515a5aa"
   },
   "outputs": [
    {
     "name": "stdout",
     "output_type": "stream",
     "text": [
      "Accuracy: 0.9778\n"
     ]
    }
   ],
   "source": [
    "checkAccuracy(model,train_loader)"
   ]
  },
  {
   "cell_type": "code",
   "execution_count": 29,
   "metadata": {
    "colab": {
     "base_uri": "https://localhost:8080/",
     "height": 34
    },
    "colab_type": "code",
    "id": "GoKlgqs5u-7P",
    "outputId": "4f77d763-d3c9-4fa3-e39a-278e5a6b865f"
   },
   "outputs": [
    {
     "name": "stdout",
     "output_type": "stream",
     "text": [
      "Accuracy: 0.7380\n"
     ]
    }
   ],
   "source": [
    "checkAccuracy(model,validation_loader)"
   ]
  },
  {
   "cell_type": "markdown",
   "metadata": {
    "colab_type": "text",
    "id": "8E5CtnYwuNMW"
   },
   "source": [
    "### Checking the model which was saved as temporary checkpoint after validation loss decreased"
   ]
  },
  {
   "cell_type": "code",
   "execution_count": 0,
   "metadata": {
    "colab": {},
    "colab_type": "code",
    "id": "T-iaBml6aJJX"
   },
   "outputs": [],
   "source": [
    "model2=load_Checkpoint(\"checkpoint.pth\")"
   ]
  },
  {
   "cell_type": "code",
   "execution_count": 31,
   "metadata": {
    "colab": {
     "base_uri": "https://localhost:8080/",
     "height": 34
    },
    "colab_type": "code",
    "id": "b7gbNbK6bIa0",
    "outputId": "1543a521-1523-49ff-82c0-7a4e56cd3057"
   },
   "outputs": [
    {
     "name": "stdout",
     "output_type": "stream",
     "text": [
      "Accuracy: 0.8616\n"
     ]
    }
   ],
   "source": [
    "checkAccuracy(model2.cuda(),test_loader)"
   ]
  },
  {
   "cell_type": "code",
   "execution_count": 32,
   "metadata": {
    "colab": {
     "base_uri": "https://localhost:8080/",
     "height": 34
    },
    "colab_type": "code",
    "id": "KfsrBvaDdVwH",
    "outputId": "83262133-5007-4ec2-9f9e-04bff0a1b000"
   },
   "outputs": [
    {
     "name": "stdout",
     "output_type": "stream",
     "text": [
      "Accuracy: 0.8829\n"
     ]
    }
   ],
   "source": [
    "checkAccuracy(model2.cuda(),train_loader)"
   ]
  },
  {
   "cell_type": "code",
   "execution_count": 33,
   "metadata": {
    "colab": {
     "base_uri": "https://localhost:8080/",
     "height": 34
    },
    "colab_type": "code",
    "id": "VU-JgA8ddZc8",
    "outputId": "2ff961e8-1cd0-4874-9d7e-1b4a551c9ab3"
   },
   "outputs": [
    {
     "name": "stdout",
     "output_type": "stream",
     "text": [
      "Accuracy: 0.8672\n"
     ]
    }
   ],
   "source": [
    "checkAccuracy(model2.cuda(),validation_loader)"
   ]
  },
  {
   "cell_type": "markdown",
   "metadata": {
    "colab_type": "text",
    "id": "AN1hxjVruXoO"
   },
   "source": [
    "### Saving the perfectly trained model to google drive"
   ]
  },
  {
   "cell_type": "code",
   "execution_count": 0,
   "metadata": {
    "colab": {},
    "colab_type": "code",
    "id": "5k9494IFbLgP"
   },
   "outputs": [],
   "source": [
    "# saving the trained model to google drive\n",
    "save_checkpoint(model2,fileLocation)"
   ]
  },
  {
   "cell_type": "code",
   "execution_count": 0,
   "metadata": {
    "colab": {},
    "colab_type": "code",
    "id": "cnMCx9gat3i1"
   },
   "outputs": [],
   "source": [
    "model3=load_Checkpoint(fileLocation)"
   ]
  },
  {
   "cell_type": "code",
   "execution_count": 38,
   "metadata": {
    "colab": {
     "base_uri": "https://localhost:8080/",
     "height": 34
    },
    "colab_type": "code",
    "id": "uxfi086st9q_",
    "outputId": "784ba4f9-465b-4cf5-d284-f2dd58d09658"
   },
   "outputs": [
    {
     "name": "stdout",
     "output_type": "stream",
     "text": [
      "Accuracy: 0.8612\n"
     ]
    }
   ],
   "source": [
    "checkAccuracy(model3.cuda(),test_loader)"
   ]
  },
  {
   "cell_type": "code",
   "execution_count": 34,
   "metadata": {
    "colab": {
     "base_uri": "https://localhost:8080/",
     "height": 34
    },
    "colab_type": "code",
    "id": "wmifuQ7Fu--X",
    "outputId": "f17341f8-5c20-44ed-ffc8-17370baac51e"
   },
   "outputs": [
    {
     "name": "stdout",
     "output_type": "stream",
     "text": [
      "0.9629\t Positive sentence!\n"
     ]
    }
   ],
   "source": [
    "predict(model2, 'Kamikaze album by eminem has to be one of the best albums that came out last year, other than few tracks, evey track was lit', seq_length)"
   ]
  },
  {
   "cell_type": "code",
   "execution_count": 40,
   "metadata": {
    "colab": {
     "base_uri": "https://localhost:8080/",
     "height": 34
    },
    "colab_type": "code",
    "id": "shAzjr2Lu_Br",
    "outputId": "57919a72-28f2-49f2-ad9d-46b99518afa6"
   },
   "outputs": [
    {
     "name": "stdout",
     "output_type": "stream",
     "text": [
      "0.4613\t Negative sentence!\n"
     ]
    }
   ],
   "source": [
    "sentence = 'Drake published 3 trash albums this year, each track gave pain at different parts of my brain, he deserves rotten tomatoes'\n",
    "predict(model2,sentence)"
   ]
  },
  {
   "cell_type": "code",
   "execution_count": null,
   "metadata": {},
   "outputs": [],
   "source": [
    "#saving the created dictonary for future use\n",
    "np.save(\"vocab_to_int.npy\", vocab_to_int)"
   ]
  }
 ],
 "metadata": {
  "accelerator": "GPU",
  "colab": {
   "include_colab_link": true,
   "name": "Sentiment Analysis using Stanford AI Dataset.ipynb",
   "provenance": [],
   "version": "0.3.2"
  },
  "kernelspec": {
   "display_name": "Python 3",
   "language": "python",
   "name": "python3"
  },
  "language_info": {
   "codemirror_mode": {
    "name": "ipython",
    "version": 3
   },
   "file_extension": ".py",
   "mimetype": "text/x-python",
   "name": "python",
   "nbconvert_exporter": "python",
   "pygments_lexer": "ipython3",
   "version": "3.7.1"
  }
 },
 "nbformat": 4,
 "nbformat_minor": 1
}
