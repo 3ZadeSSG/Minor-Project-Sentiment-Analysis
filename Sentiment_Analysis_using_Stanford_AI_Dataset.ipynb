{
  "nbformat": 4,
  "nbformat_minor": 0,
  "metadata": {
    "colab": {
      "name": "Sentiment Analysis using Stanford AI Dataset.ipynb",
      "version": "0.3.2",
      "provenance": [],
      "collapsed_sections": [],
      "include_colab_link": true
    },
    "kernelspec": {
      "display_name": "Python 3",
      "language": "python",
      "name": "python3"
    },
    "accelerator": "GPU"
  },
  "cells": [
    {
      "cell_type": "markdown",
      "metadata": {
        "id": "view-in-github",
        "colab_type": "text"
      },
      "source": [
        "<a href=\"https://colab.research.google.com/github/3ZadeSSG/Minor-Project-Sentiment-Analysis/blob/master/Sentiment_Analysis_using_Stanford_AI_Dataset.ipynb\" target=\"_parent\"><img src=\"https://colab.research.google.com/assets/colab-badge.svg\" alt=\"Open In Colab\"/></a>"
      ]
    },
    {
      "metadata": {
        "colab_type": "code",
        "id": "k3kr18m0qK7s",
        "colab": {}
      },
      "cell_type": "code",
      "source": [
        "from google.colab import files,drive"
      ],
      "execution_count": 0,
      "outputs": []
    },
    {
      "metadata": {
        "colab_type": "code",
        "id": "z523O_B3qQR0",
        "outputId": "f8636b2f-17b7-47f3-9585-d9cf19e80a0a",
        "colab": {
          "base_uri": "https://localhost:8080/",
          "height": 122
        }
      },
      "cell_type": "code",
      "source": [
        "drive.mount('/content/drive/')"
      ],
      "execution_count": 0,
      "outputs": [
        {
          "output_type": "stream",
          "text": [
            "Go to this URL in a browser: https://accounts.google.com/o/oauth2/auth?client_id=947318989803-6bn6qk8qdgf4n4g3pfee6491hc0brc4i.apps.googleusercontent.com&redirect_uri=urn%3Aietf%3Awg%3Aoauth%3A2.0%3Aoob&scope=email%20https%3A%2F%2Fwww.googleapis.com%2Fauth%2Fdocs.test%20https%3A%2F%2Fwww.googleapis.com%2Fauth%2Fdrive%20https%3A%2F%2Fwww.googleapis.com%2Fauth%2Fdrive.photos.readonly%20https%3A%2F%2Fwww.googleapis.com%2Fauth%2Fpeopleapi.readonly&response_type=code\n",
            "\n",
            "Enter your authorization code:\n",
            "··········\n",
            "Mounted at /content/drive/\n"
          ],
          "name": "stdout"
        }
      ]
    },
    {
      "metadata": {
        "colab_type": "code",
        "id": "Hgkd5h8BG3N-",
        "outputId": "ccf55816-d91a-400e-8c41-ff530dcce507",
        "colab": {
          "base_uri": "https://localhost:8080/",
          "height": 204
        }
      },
      "cell_type": "code",
      "source": [
        "# Get the generated helper functions to process the data and create proper datasets to be converted into tensors\n",
        "!wget -c https://raw.githubusercontent.com/3ZadeSSG/Minor-Project-Sentiment-Analysis/master/myModelHelper.py"
      ],
      "execution_count": 0,
      "outputs": [
        {
          "output_type": "stream",
          "text": [
            "--2019-04-07 14:21:31--  https://raw.githubusercontent.com/3ZadeSSG/Minor-Project-Sentiment-Analysis/master/myModelHelper.py\n",
            "Resolving raw.githubusercontent.com (raw.githubusercontent.com)... 151.101.0.133, 151.101.64.133, 151.101.128.133, ...\n",
            "Connecting to raw.githubusercontent.com (raw.githubusercontent.com)|151.101.0.133|:443... connected.\n",
            "HTTP request sent, awaiting response... 200 OK\n",
            "Length: 2790 (2.7K) [text/plain]\n",
            "Saving to: ‘myModelHelper.py’\n",
            "\n",
            "\rmyModelHelper.py      0%[                    ]       0  --.-KB/s               \rmyModelHelper.py    100%[===================>]   2.72K  --.-KB/s    in 0s      \n",
            "\n",
            "2019-04-07 14:21:31 (55.4 MB/s) - ‘myModelHelper.py’ saved [2790/2790]\n",
            "\n"
          ],
          "name": "stdout"
        }
      ]
    },
    {
      "metadata": {
        "colab_type": "code",
        "id": "85fw4k4rHawu",
        "outputId": "5ebf52ef-df51-43ca-92d2-07b3a1858104",
        "colab": {
          "base_uri": "https://localhost:8080/",
          "height": 204
        }
      },
      "cell_type": "code",
      "source": [
        "# Get data directly from url\n",
        "!wget http://ai.stanford.edu/~amaas/data/sentiment/aclImdb_v1.tar.gz"
      ],
      "execution_count": 0,
      "outputs": [
        {
          "output_type": "stream",
          "text": [
            "--2019-04-07 14:21:35--  http://ai.stanford.edu/~amaas/data/sentiment/aclImdb_v1.tar.gz\n",
            "Resolving ai.stanford.edu (ai.stanford.edu)... 171.64.68.10\n",
            "Connecting to ai.stanford.edu (ai.stanford.edu)|171.64.68.10|:80... connected.\n",
            "HTTP request sent, awaiting response... 200 OK\n",
            "Length: 84125825 (80M) [application/x-gzip]\n",
            "Saving to: ‘aclImdb_v1.tar.gz’\n",
            "\n",
            "aclImdb_v1.tar.gz   100%[===================>]  80.23M  19.2MB/s    in 7.0s    \n",
            "\n",
            "2019-04-07 14:21:42 (11.5 MB/s) - ‘aclImdb_v1.tar.gz’ saved [84125825/84125825]\n",
            "\n"
          ],
          "name": "stdout"
        }
      ]
    },
    {
      "metadata": {
        "colab_type": "code",
        "id": "Fzb4-4g-Hhk1",
        "colab": {}
      },
      "cell_type": "code",
      "source": [
        "# Extract data\n",
        "!tar -xvzf aclImdb_v1.tar.gz"
      ],
      "execution_count": 0,
      "outputs": []
    },
    {
      "metadata": {
        "colab_type": "code",
        "id": "z48JUwW7GYeB",
        "colab": {}
      },
      "cell_type": "code",
      "source": [
        "import torch\n",
        "import torch.nn as nn\n",
        "from torch.utils.data import TensorDataset,DataLoader\n",
        "from myModelHelper import *\n",
        "import matplotlib.pyplot as plt\n"
      ],
      "execution_count": 0,
      "outputs": []
    },
    {
      "metadata": {
        "colab_type": "code",
        "id": "A0zDAkRQGp-O",
        "colab": {}
      },
      "cell_type": "code",
      "source": [
        "class SentimentNetwork(nn.Module):\n",
        "  def __init__(self,vocabulary_size,output_size,embedding_dimension,hidden_dimension,number_of_layers,dropout_probability=0.5):\n",
        "    super(SentimentNetwork,self).__init__()\n",
        "    # class data for weight matrix size\n",
        "    self.output_size=output_size\n",
        "    self.number_of_layers=number_of_layers\n",
        "    self.hidden_dimension=hidden_dimension\n",
        "    # create the embedding layer to reduce dimension \n",
        "    # and LSTM layer containing LSTM cells \n",
        "    self.embedding=nn.Embedding(vocabulary_size,embedding_dimension)\n",
        "    self.lstm=nn.LSTM(embedding_dimension,hidden_dimension,number_of_layers,dropout=dropout_probability,batch_first=True)\n",
        "    \n",
        "    # Create dropout layer as a regularization method to reduct overfitting\n",
        "    # this will disable some units in forward pass, thus preventing \n",
        "    # a particular set of node's weights getting updated while others remain unused\n",
        "    self.dropout=nn.Dropout(dropout_probability)\n",
        "    \n",
        "    # attach final  linear layer with sigmoid function\n",
        "    self.finalLayer=nn.Linear(hidden_dimension,output_size)\n",
        "    self.sigmoid=nn.Sigmoid()\n",
        "   \n",
        "  def forward(self,x,hidden):\n",
        "    batch_size=x.size(0)\n",
        "    embedding_output=self.embedding(x)\n",
        "    \n",
        "    #lstm will take the current input and hidden state as input \n",
        "    # and will generate the output to be feed at the linear layer\n",
        "    lstm_output,hidden=self.lstm(embedding_output,hidden)\n",
        "    lstm_output=lstm_output.contiguous().view(-1,self.hidden_dimension)\n",
        "    \n",
        "    output=self.dropout(lstm_output)\n",
        "    output=self.finalLayer(output)\n",
        "    \n",
        "    #call the sigmoid function on current output of final layer\n",
        "    sigmoid_output=self.sigmoid(output)\n",
        "    sigmoid_output=sigmoid_output.view(batch_size,-1)\n",
        "    #only get the last position output for all batches\n",
        "    sigmoid_output=sigmoid_output[:,-1]\n",
        "    \n",
        "    #current sigmoid output and a hidden state to be fed as input for next pass\n",
        "    # into the LSTM cells, so that they will be dependent on the previous state\n",
        "    return sigmoid_output,hidden\n",
        "  \n",
        "  def initialize_hidden_state(self,batch_size):\n",
        "    # At first the hidden state will not hold any information, hence we need to\n",
        "    # initialize them with zeros\n",
        "    # Number_of_Layers x Batch_Size x Hidden_Dimension\n",
        "    weight=next(self.parameters()).data\n",
        "    if(torch.cuda.is_available()):\n",
        "      # if GPU is available then initialize the weights parallely\n",
        "      hidden=(weight.new(self.number_of_layers,batch_size,self.hidden_dimension).zero_().cuda(),weight.new(self.number_of_layers,batch_size,self.hidden_dimension).zero_().cuda())\n",
        "    else:\n",
        "      hidden=(weight.new(self.number_of_layers,batch_size,self.hidden_dimension).zero_(),weight.new(self.number_of_layers,batch_size,self.hidden_dimension).zero_())\n",
        "      \n",
        "    return hidden\n",
        "      \n",
        "   "
      ],
      "execution_count": 0,
      "outputs": []
    },
    {
      "metadata": {
        "id": "136bBBgPVpKm",
        "colab_type": "code",
        "colab": {}
      },
      "cell_type": "code",
      "source": [
        "from torch.optim import Optimizer\n",
        "import  math\n",
        "class AdamOptimizerAlgorithm(Optimizer):\n",
        "  \n",
        "    \n",
        "    def __init__(self, params, lr=1e-3, betas=(0.9, 0.999), eps=1e-8):\n",
        "        defaults = dict(lr=lr, betas=betas, eps=eps)\n",
        "        super(AdamOptimizerAlgorithm, self).__init__(params, defaults)\n",
        "\n",
        "    def step(self):\n",
        "        for group in self.param_groups:\n",
        "            for p in group['params']:\n",
        "                if p.grad is None:\n",
        "                    continue\n",
        "                grad = p.grad.data\n",
        "                state = self.state[p]\n",
        "\n",
        "                # State initialization in case of initial state\n",
        "                if len(state) == 0:\n",
        "                    state['step'] = 0\n",
        "                    # Exponential moving average of gradient values\n",
        "                    state['exp_avg'] = torch.zeros_like(p.data)\n",
        "                    # Exponential moving average of squared gradient values\n",
        "                    state['exp_avg_sq'] = torch.zeros_like(p.data)\n",
        "                    \n",
        "\n",
        "                exp_avg, exp_avg_sq = state['exp_avg'], state['exp_avg_sq']\n",
        "                \n",
        "                beta1, beta2 = group['betas']\n",
        "\n",
        "                state['step'] += 1\n",
        "\n",
        "                #following is just a formula implementaion of the algorithm\n",
        "                exp_avg.mul_(beta1).add_(1 - beta1, grad)\n",
        "                exp_avg_sq.mul_(beta2).addcmul_(1 - beta2, grad, grad)\n",
        "                \n",
        "                denom = exp_avg_sq.sqrt().add_(group['eps'])\n",
        "\n",
        "                b_1 = 1 - beta1 ** state['step']\n",
        "                b_2 = 1 - beta2 ** state['step']\n",
        "                step_size = group['lr'] * math.sqrt(b_2) / b_1\n",
        "                \n",
        "                p.data.addcdiv_(-step_size, exp_avg, denom)  # -step_size*(exp_avg/denom) operation done in single step\n"
      ],
      "execution_count": 0,
      "outputs": []
    },
    {
      "metadata": {
        "colab_type": "code",
        "id": "a41iJq2QGqAP",
        "colab": {}
      },
      "cell_type": "code",
      "source": [
        "def buildNetwork():\n",
        "  #Our model parameters\n",
        "  vocabulary_size=len(vocab_to_int)+1\n",
        "  output_size=1\n",
        "  embedding_dimension=200\n",
        "  hidden_dimension=256\n",
        "  number_of_layers=2\n",
        "  \n",
        "  model=SentimentNetwork(vocabulary_size,output_size,embedding_dimension,hidden_dimension,number_of_layers)\n",
        "  \n",
        "  # Alpha value\n",
        "  learning_rate=0.003\n",
        "  \n",
        "  # Error calculating formula (Mean Square Error)\n",
        "  criterion = nn.MSELoss() \n",
        " \n",
        "  #Adam optimization technique for first-order gradient-based optimization\n",
        "  optimizer=AdamOptimizerAlgorithm(model.parameters(),lr=learning_rate)\n",
        "  \n",
        "  \n",
        "  return model,criterion,optimizer\n",
        "  "
      ],
      "execution_count": 0,
      "outputs": []
    },
    {
      "metadata": {
        "colab_type": "code",
        "id": "9uf1QFQPT5Ra",
        "colab": {}
      },
      "cell_type": "code",
      "source": [
        "def trainNetwork(model,epochs,print_interval,criterion,optimizer):\n",
        "  Iteration=[]\n",
        "  Training_Loss=[]\n",
        "  Validation_Loss=[]\n",
        "  \n",
        "  minimum_validation_loss=np.Inf\n",
        "  \n",
        "  # Since each epoch goes over all data and\n",
        "  # each iteration goes over the data in batches\n",
        "  count=0\n",
        "  \n",
        "  # move model to GPU \n",
        "  model.cuda()\n",
        "  \n",
        "  #put the model into training model so that the gradients will \n",
        "  # be calculated\n",
        "  model.train()\n",
        "  for i in range(epochs):\n",
        "    # for each epoch perform a forward pass for all batches\n",
        "    # and around epoch 4 reduce the learning rate\n",
        "    hidden_state=model.initialize_hidden_state(batch_size)\n",
        "    \n",
        "    if(i==3):\n",
        "      print(\"\\n\\nReducing the learning rate!\\n\" )\n",
        "      #optimizer=torch.optim.Adam(model.parameters(),lr=0.0002)\n",
        "      optimizer=AdamOptimizerAlgorithm(model.parameters(),lr=0.0002)\n",
        "    \n",
        "    for inputs,labels in train_loader:\n",
        "      count+=1\n",
        "      # move the data to GPU\n",
        "      inputs,labels=inputs.cuda(),labels.cuda()\n",
        "      \n",
        "      #create new variable for hidden state otherwise it will include all\n",
        "      #pervious states\n",
        "      hidden_state=tuple([element.data for element in hidden_state])\n",
        "      \n",
        "      model.zero_grad()\n",
        "      \n",
        "      inputs=inputs.long()\n",
        "      output,hidden_state=model(inputs,hidden_state)\n",
        "      \n",
        "      #calculate the loss to backpropagare to model\n",
        "      #loss=torch.sqrt(criterion(output.squeeze(),labels.float()))\n",
        "      loss=criterion(output.squeeze(),labels.float())\n",
        "      loss.backward()\n",
        "\n",
        "      \n",
        "      #nn.utils.clip_grad_norm_(model.parameters(),clip)\n",
        "      optimizer.step()\n",
        "      \n",
        "      if(count%print_interval==0):\n",
        "        temp_hidden=model.initialize_hidden_state(batch_size)\n",
        "        temp_losses=[]\n",
        "        model.eval()\n",
        "        for inputs,labels in validation_loader:\n",
        "          temp_hidden=tuple([element.data for element in temp_hidden])\n",
        "          inputs,labels=inputs.cuda().long(),labels.cuda()\n",
        "          \n",
        "          output,temp_hidden=model(inputs,temp_hidden)\n",
        "          validation_loss=criterion(output.squeeze(),labels.float())\n",
        "          temp_losses.append(validation_loss.item())\n",
        "        \n",
        "        model.train()\n",
        "        print(\"Epoch: {}\\tIteration: {}\\tTraining Loss: {:.7f}\\tValidation Loss: {:.7f}\".format(\n",
        "        (i+1),count,loss.item(),np.mean(temp_losses)))\n",
        "        Iteration.append(count)\n",
        "        Training_Loss.append(loss.item())\n",
        "        Validation_Loss.append(np.mean(temp_losses))\n",
        "        \n",
        "        if np.mean(temp_losses)<minimum_validation_loss:\n",
        "            save_checkpoint(model,\"checkpoint.pth\")\n",
        "            minimum_validation_loss=np.mean(temp_losses)\n",
        "            print(\"Validation loss decreased  hence saving checkpoint successfully\")\n",
        "                  \n",
        "         \n",
        "\n",
        "\n",
        "  plt.plot(Iteration,Training_Loss)\n",
        "  plt.plot(Iteration,Validation_Loss)\n",
        "  plt.xlabel('Iteration')\n",
        "  plt.ylabel('Loss')\n",
        "  plt.ylim(0.0,1.0)\n",
        "  plt.legend(['Training Loss','Validation Loss'], loc='upper left')\n",
        "  plt.show()\n",
        "  \n",
        "        "
      ],
      "execution_count": 0,
      "outputs": []
    },
    {
      "metadata": {
        "colab_type": "code",
        "id": "VMCv-pJkTL58",
        "colab": {}
      },
      "cell_type": "code",
      "source": [
        "def save_checkpoint(model,fileLocation):\n",
        "  # save the current state_dict which contains all the weights of the network\n",
        "  torch.save(model.state_dict(),fileLocation)\n",
        "  "
      ],
      "execution_count": 0,
      "outputs": []
    },
    {
      "metadata": {
        "colab_type": "code",
        "id": "DqJmKTYwTZjC",
        "colab": {}
      },
      "cell_type": "code",
      "source": [
        "def load_Checkpoint(fileLocation):\n",
        "  #model=buildNetwork()\n",
        "  model,criterion,optimizer=buildNetwork()\n",
        "  model.load_state_dict(torch.load(fileLocation))\n",
        "  return model"
      ],
      "execution_count": 0,
      "outputs": []
    },
    {
      "metadata": {
        "colab_type": "code",
        "id": "UB0x9fla3AmK",
        "colab": {}
      },
      "cell_type": "code",
      "source": [
        "def checkAccuracy(model,test_loader):\n",
        "  #move model to GPU\n",
        "  model.cuda()\n",
        "  \n",
        "  test_losses=[]\n",
        "  correct_prediction=0\n",
        "  \n",
        "  #set initial state to zero\n",
        "  hidden_state=model.initialize_hidden_state(batch_size)\n",
        "  \n",
        "  # set the model into evaluation mode, so that we don't need to calculate\n",
        "  # the gradients\n",
        "  model.eval()\n",
        "  \n",
        "  for inputs,labels in test_loader:\n",
        "    \n",
        "    # move the data and labels into GPU\n",
        "    inputs,labels=inputs.cuda().long(),labels.cuda().long()\n",
        "    \n",
        "    output,hidden_state=model(inputs,hidden_state)\n",
        "    # labels are initially long or int, we need to conver them into float\n",
        "    # so that loss cab be calculated in float value\n",
        "    test_loss=criterion(output.squeeze(),labels.float())\n",
        "    test_losses.append(test_loss.item())\n",
        "    \n",
        "    # get the prediction either 1 or 0\n",
        "    prediction=torch.round(output.squeeze())\n",
        "    \n",
        "    correct_tensor=prediction.eq(labels.float().view_as(prediction))   \n",
        "    correct=np.squeeze(correct_tensor.cpu().numpy())\n",
        "    correct_prediction+=np.sum(correct)\n",
        "  \n",
        "  #print(np.mean(test_losses))\n",
        "  print(\"Accuracy: {:.4f}\".format(correct_prediction/len(test_loader.dataset)))\n",
        "  "
      ],
      "execution_count": 0,
      "outputs": []
    },
    {
      "metadata": {
        "colab_type": "code",
        "id": "-DQjhHHKdjS-",
        "colab": {}
      },
      "cell_type": "code",
      "source": [
        "def tokenize_sentence(sentence):\n",
        "  sentence=sentence.lower()\n",
        "  \n",
        "  #remove punctuation\n",
        "  sentence=''.join([letter for letter in sentence if letter not in punctuation])\n",
        "  \n",
        "  test_words=sentence.split()\n",
        "  tokens=[]\n",
        "  sample=[]\n",
        "  for word in test_words:\n",
        "      if word in vocab_to_int:\n",
        "          sample.append(word)\n",
        "  tokens.append([vocab_to_int[word] for word in sample])\n",
        "  return tokens"
      ],
      "execution_count": 0,
      "outputs": []
    },
    {
      "metadata": {
        "colab_type": "code",
        "id": "tFAQve__djXX",
        "colab": {}
      },
      "cell_type": "code",
      "source": [
        "def predict(model,sentence,sequence_length=200):\n",
        "  model.cuda()\n",
        "  model.eval()\n",
        "  \n",
        "  test_ints=tokenize_sentence(sentence)\n",
        "  features=featuresPadding(test_ints,sequence_length)\n",
        "  feature_tensor=torch.from_numpy(features)\n",
        "  batch_size=feature_tensor.size(0)\n",
        "  \n",
        "  hidden_state=model.initialize_hidden_state(batch_size)\n",
        "  feature_tensor=feature_tensor.cuda().long()\n",
        "  output,hidden_state=model(feature_tensor,hidden_state)\n",
        "  prediction=torch.round(output.squeeze())\n",
        "  if(prediction.item()==0):\n",
        "    print(\"{:.4f}\\t Negative sentence!\".format(output.item()))\n",
        "  else:\n",
        "    print(\"{:.4f}\\t Positive sentence!\".format(output.item()))\n",
        "  "
      ],
      "execution_count": 0,
      "outputs": []
    },
    {
      "metadata": {
        "colab_type": "code",
        "id": "KZTaWPd2Gp1X",
        "colab": {}
      },
      "cell_type": "code",
      "source": [
        "negativeDataPath=\"aclImdb/train/neg/\"\n",
        "positiveDataPath=\"aclImdb/train/pos/\"\n",
        "fileLocation='/content/drive/My Drive/SEM-III Project/SentimentAnalysisCheckpoint.pth'"
      ],
      "execution_count": 0,
      "outputs": []
    },
    {
      "metadata": {
        "colab_type": "code",
        "id": "D1EoH7-hGp33",
        "colab": {}
      },
      "cell_type": "code",
      "source": [
        "reviews,labels=createData(positiveDataPath,negativeDataPath)"
      ],
      "execution_count": 0,
      "outputs": []
    },
    {
      "metadata": {
        "colab_type": "code",
        "id": "0yhFfFOzueUL",
        "outputId": "ec5a72f7-072b-4dd3-d481-b7cd9d8a1d82",
        "colab": {
          "base_uri": "https://localhost:8080/",
          "height": 34
        }
      },
      "cell_type": "code",
      "source": [
        "len(reviews),len(labels)"
      ],
      "execution_count": 0,
      "outputs": [
        {
          "output_type": "execute_result",
          "data": {
            "text/plain": [
              "(33151741, 225000)"
            ]
          },
          "metadata": {
            "tags": []
          },
          "execution_count": 16
        }
      ]
    },
    {
      "metadata": {
        "colab_type": "code",
        "id": "DPVaPTNZIbSu",
        "colab": {}
      },
      "cell_type": "code",
      "source": [
        "seq_length=200"
      ],
      "execution_count": 0,
      "outputs": []
    },
    {
      "metadata": {
        "colab_type": "code",
        "id": "Pjak8byWGp5-",
        "colab": {}
      },
      "cell_type": "code",
      "source": [
        "features,encoded_labels,vocab_to_int=getFeaturesLabels(reviews,labels,seq_length)\n",
        "\n",
        "train_x,train_y,test_x,test_y,val_x,val_y=createTrainTestValidateData(0.8,features,encoded_labels)"
      ],
      "execution_count": 0,
      "outputs": []
    },
    {
      "metadata": {
        "colab_type": "code",
        "id": "rP1Y1i4FGp8A",
        "colab": {}
      },
      "cell_type": "code",
      "source": [
        "train_data = TensorDataset(torch.from_numpy(train_x), torch.from_numpy(train_y))\n",
        "validation_data = TensorDataset(torch.from_numpy(val_x), torch.from_numpy(val_y))\n",
        "test_data = TensorDataset(torch.from_numpy(test_x), torch.from_numpy(test_y))\n",
        "batch_size=100\n",
        "train_loader = DataLoader(train_data, shuffle=True, batch_size=batch_size)\n",
        "validation_loader = DataLoader(validation_data, shuffle=True, batch_size=batch_size)\n",
        "test_loader = DataLoader(test_data, shuffle=True, batch_size=batch_size)"
      ],
      "execution_count": 0,
      "outputs": []
    },
    {
      "metadata": {
        "colab_type": "code",
        "id": "vxzyRGHMumss",
        "outputId": "cd6f934d-5407-4701-bc30-bba62a912efe",
        "colab": {
          "base_uri": "https://localhost:8080/",
          "height": 68
        }
      },
      "cell_type": "code",
      "source": [
        "print(\"Training: \\t\",np.shape(train_x))\n",
        "print(\"Validation: \\t\",np.shape(val_x))\n",
        "print(\"Test: \\t\\t\",np.shape(test_x))\n"
      ],
      "execution_count": 0,
      "outputs": [
        {
          "output_type": "stream",
          "text": [
            "Training: \t (20000, 200)\n",
            "Validation: \t (2500, 200)\n",
            "Test: \t\t (2500, 200)\n"
          ],
          "name": "stdout"
        }
      ]
    },
    {
      "metadata": {
        "colab_type": "code",
        "id": "UbEv55TFT5UK",
        "colab": {}
      },
      "cell_type": "code",
      "source": [
        "model,criterion,optimizer=buildNetwork()"
      ],
      "execution_count": 0,
      "outputs": []
    },
    {
      "metadata": {
        "colab_type": "code",
        "id": "V3kFoVxm3AeW",
        "outputId": "aef4be4f-70dc-4e39-9c6b-886e91e5bff8",
        "colab": {
          "base_uri": "https://localhost:8080/",
          "height": 136
        }
      },
      "cell_type": "code",
      "source": [
        "model.cuda()"
      ],
      "execution_count": 0,
      "outputs": [
        {
          "output_type": "execute_result",
          "data": {
            "text/plain": [
              "SentimentNetwork(\n",
              "  (embedding): Embedding(121365, 200)\n",
              "  (lstm): LSTM(200, 256, num_layers=2, batch_first=True, dropout=0.5)\n",
              "  (dropout): Dropout(p=0.5)\n",
              "  (finalLayer): Linear(in_features=256, out_features=1, bias=True)\n",
              "  (sigmoid): Sigmoid()\n",
              ")"
            ]
          },
          "metadata": {
            "tags": []
          },
          "execution_count": 41
        }
      ]
    },
    {
      "metadata": {
        "colab_type": "code",
        "id": "ZS9jGePv3Ag1",
        "colab": {}
      },
      "cell_type": "code",
      "source": [
        "print_interval = 100\n",
        "epochs = 16 "
      ],
      "execution_count": 0,
      "outputs": []
    },
    {
      "metadata": {
        "colab_type": "code",
        "id": "enEkdI103Ajl",
        "outputId": "7849834d-db14-4058-d4c0-768d01289818",
        "colab": {
          "base_uri": "https://localhost:8080/",
          "height": 1113
        }
      },
      "cell_type": "code",
      "source": [
        "import time\n",
        "start_time=time.time()\n",
        "trainNetwork(model,epochs,print_interval,criterion,optimizer)\n",
        "print(\"\\n\\nTraining Time: {} minutes\".format((time.time()-start_time)/60))"
      ],
      "execution_count": 0,
      "outputs": [
        {
          "output_type": "stream",
          "text": [
            "Epoch: 1\tIteration: 100\tTraining Loss: 0.2356652\tValidation Loss: 0.2396529\n",
            "Validation loss decreased  hence saving checkpoint successfully\n",
            "Epoch: 1\tIteration: 200\tTraining Loss: 0.2294783\tValidation Loss: 0.1879363\n",
            "Validation loss decreased  hence saving checkpoint successfully\n",
            "Epoch: 2\tIteration: 300\tTraining Loss: 0.1221827\tValidation Loss: 0.2087412\n",
            "Epoch: 2\tIteration: 400\tTraining Loss: 0.0933442\tValidation Loss: 0.1456503\n",
            "Validation loss decreased  hence saving checkpoint successfully\n",
            "Epoch: 3\tIteration: 500\tTraining Loss: 0.1012263\tValidation Loss: 0.1369326\n",
            "Validation loss decreased  hence saving checkpoint successfully\n",
            "Epoch: 3\tIteration: 600\tTraining Loss: 0.1288696\tValidation Loss: 0.1238711\n",
            "Validation loss decreased  hence saving checkpoint successfully\n",
            "\n",
            "\n",
            "Reducing the learning rate!\n",
            "\n",
            "Epoch: 4\tIteration: 700\tTraining Loss: 0.0352292\tValidation Loss: 0.1298226\n",
            "Epoch: 4\tIteration: 800\tTraining Loss: 0.0395323\tValidation Loss: 0.1287776\n",
            "Epoch: 5\tIteration: 900\tTraining Loss: 0.0404341\tValidation Loss: 0.1325075\n",
            "Epoch: 5\tIteration: 1000\tTraining Loss: 0.0167642\tValidation Loss: 0.1333889\n",
            "Epoch: 6\tIteration: 1100\tTraining Loss: 0.0527032\tValidation Loss: 0.1342535\n",
            "Epoch: 6\tIteration: 1200\tTraining Loss: 0.0265984\tValidation Loss: 0.1319116\n",
            "Epoch: 7\tIteration: 1300\tTraining Loss: 0.0052540\tValidation Loss: 0.1332736\n",
            "Epoch: 7\tIteration: 1400\tTraining Loss: 0.0150551\tValidation Loss: 0.1333146\n",
            "Epoch: 8\tIteration: 1500\tTraining Loss: 0.0218665\tValidation Loss: 0.1352145\n",
            "Epoch: 8\tIteration: 1600\tTraining Loss: 0.0499543\tValidation Loss: 0.1328574\n",
            "Epoch: 9\tIteration: 1700\tTraining Loss: 0.0185096\tValidation Loss: 0.1360238\n",
            "Epoch: 9\tIteration: 1800\tTraining Loss: 0.0368802\tValidation Loss: 0.1415351\n",
            "Epoch: 10\tIteration: 1900\tTraining Loss: 0.0284689\tValidation Loss: 0.1379222\n",
            "Epoch: 10\tIteration: 2000\tTraining Loss: 0.0310027\tValidation Loss: 0.1412146\n",
            "Epoch: 11\tIteration: 2100\tTraining Loss: 0.0205711\tValidation Loss: 0.1418187\n",
            "Epoch: 11\tIteration: 2200\tTraining Loss: 0.0103225\tValidation Loss: 0.1413574\n",
            "Epoch: 12\tIteration: 2300\tTraining Loss: 0.0390445\tValidation Loss: 0.1433604\n",
            "Epoch: 12\tIteration: 2400\tTraining Loss: 0.0052759\tValidation Loss: 0.1412638\n",
            "Epoch: 13\tIteration: 2500\tTraining Loss: 0.0010678\tValidation Loss: 0.1416073\n",
            "Epoch: 13\tIteration: 2600\tTraining Loss: 0.0106288\tValidation Loss: 0.1443913\n",
            "Epoch: 14\tIteration: 2700\tTraining Loss: 0.0103763\tValidation Loss: 0.1472553\n",
            "Epoch: 14\tIteration: 2800\tTraining Loss: 0.0004787\tValidation Loss: 0.1465307\n",
            "Epoch: 15\tIteration: 2900\tTraining Loss: 0.0326908\tValidation Loss: 0.1430379\n",
            "Epoch: 15\tIteration: 3000\tTraining Loss: 0.0211190\tValidation Loss: 0.1475482\n",
            "Epoch: 16\tIteration: 3100\tTraining Loss: 0.0200020\tValidation Loss: 0.1501372\n",
            "Epoch: 16\tIteration: 3200\tTraining Loss: 0.0232684\tValidation Loss: 0.1474636\n"
          ],
          "name": "stdout"
        },
        {
          "output_type": "display_data",
          "data": {
            "image/png": "[encoded data removed]",
            "text/plain": [
              "<Figure size 576x396 with 1 Axes>"
            ]
          },
          "metadata": {
            "tags": []
          }
        },
        {
          "output_type": "stream",
          "text": [
            "\n",
            "\n",
            "Training Time: 8.966030804316203 minutes\n"
          ],
          "name": "stdout"
        }
      ]
    },
    {
      "metadata": {
        "colab_type": "text",
        "id": "XoGaFKm9uI4h"
      },
      "cell_type": "markdown",
      "source": [
        "### Checking the overfitted model"
      ]
    },
    {
      "metadata": {
        "colab_type": "code",
        "id": "eOdZ7QRfdjVt",
        "outputId": "1e6048a3-2f29-49d6-ed17-2223a73ebc6b",
        "colab": {
          "base_uri": "https://localhost:8080/",
          "height": 34
        }
      },
      "cell_type": "code",
      "source": [
        "checkAccuracy(model,test_loader)"
      ],
      "execution_count": 0,
      "outputs": [
        {
          "output_type": "stream",
          "text": [
            "Accuracy: 0.8244\n"
          ],
          "name": "stdout"
        }
      ]
    },
    {
      "metadata": {
        "colab_type": "code",
        "id": "eUNkUWNlT5W5",
        "outputId": "4339b07f-344a-4d01-d2d9-b061dfa71840",
        "colab": {
          "base_uri": "https://localhost:8080/",
          "height": 34
        }
      },
      "cell_type": "code",
      "source": [
        "checkAccuracy(model,train_loader)"
      ],
      "execution_count": 0,
      "outputs": [
        {
          "output_type": "stream",
          "text": [
            "Accuracy: 0.9842\n"
          ],
          "name": "stdout"
        }
      ]
    },
    {
      "metadata": {
        "colab_type": "code",
        "id": "GoKlgqs5u-7P",
        "outputId": "e7c27c23-a430-452b-de79-92179af16a70",
        "colab": {
          "base_uri": "https://localhost:8080/",
          "height": 34
        }
      },
      "cell_type": "code",
      "source": [
        "checkAccuracy(model,validation_loader)"
      ],
      "execution_count": 0,
      "outputs": [
        {
          "output_type": "stream",
          "text": [
            "Accuracy: 0.8364\n"
          ],
          "name": "stdout"
        }
      ]
    },
    {
      "metadata": {
        "colab_type": "text",
        "id": "8E5CtnYwuNMW"
      },
      "cell_type": "markdown",
      "source": [
        "### Checking the model which was saved as temporary checkpoint after validation loss decreased"
      ]
    },
    {
      "metadata": {
        "colab_type": "code",
        "id": "T-iaBml6aJJX",
        "colab": {}
      },
      "cell_type": "code",
      "source": [
        "model2=load_Checkpoint(\"checkpoint.pth\")"
      ],
      "execution_count": 0,
      "outputs": []
    },
    {
      "metadata": {
        "colab_type": "code",
        "id": "b7gbNbK6bIa0",
        "outputId": "b9fd59f0-7e0e-4056-b7af-3f9a35d4b04a",
        "colab": {
          "base_uri": "https://localhost:8080/",
          "height": 34
        }
      },
      "cell_type": "code",
      "source": [
        "checkAccuracy(model2.cuda(),test_loader)"
      ],
      "execution_count": 0,
      "outputs": [
        {
          "output_type": "stream",
          "text": [
            "Accuracy: 0.8164\n"
          ],
          "name": "stdout"
        }
      ]
    },
    {
      "metadata": {
        "colab_type": "code",
        "id": "KfsrBvaDdVwH",
        "outputId": "3067df57-834a-4dd9-fb6c-29e308472d20",
        "colab": {
          "base_uri": "https://localhost:8080/",
          "height": 34
        }
      },
      "cell_type": "code",
      "source": [
        "checkAccuracy(model2.cuda(),train_loader)"
      ],
      "execution_count": 0,
      "outputs": [
        {
          "output_type": "stream",
          "text": [
            "Accuracy: 0.9410\n"
          ],
          "name": "stdout"
        }
      ]
    },
    {
      "metadata": {
        "colab_type": "code",
        "id": "VU-JgA8ddZc8",
        "outputId": "5f43bec0-f0df-4563-d1e6-7570162b5465",
        "colab": {
          "base_uri": "https://localhost:8080/",
          "height": 34
        }
      },
      "cell_type": "code",
      "source": [
        "checkAccuracy(model2.cuda(),validation_loader)"
      ],
      "execution_count": 0,
      "outputs": [
        {
          "output_type": "stream",
          "text": [
            "Accuracy: 0.8176\n"
          ],
          "name": "stdout"
        }
      ]
    },
    {
      "metadata": {
        "colab_type": "text",
        "id": "AN1hxjVruXoO"
      },
      "cell_type": "markdown",
      "source": [
        "### Saving the perfectly trained model to google drive"
      ]
    },
    {
      "metadata": {
        "colab_type": "code",
        "id": "5k9494IFbLgP",
        "colab": {}
      },
      "cell_type": "code",
      "source": [
        "# saving the trained model to google drive\n",
        "save_checkpoint(model2,fileLocation)"
      ],
      "execution_count": 0,
      "outputs": []
    },
    {
      "metadata": {
        "colab_type": "code",
        "id": "cnMCx9gat3i1",
        "colab": {}
      },
      "cell_type": "code",
      "source": [
        "model3=load_Checkpoint(fileLocation)"
      ],
      "execution_count": 0,
      "outputs": []
    },
    {
      "metadata": {
        "colab_type": "code",
        "id": "uxfi086st9q_",
        "outputId": "784ba4f9-465b-4cf5-d284-f2dd58d09658",
        "colab": {
          "base_uri": "https://localhost:8080/",
          "height": 34
        }
      },
      "cell_type": "code",
      "source": [
        "checkAccuracy(model3.cuda(),test_loader)"
      ],
      "execution_count": 0,
      "outputs": [
        {
          "output_type": "stream",
          "text": [
            "Accuracy: 0.8612\n"
          ],
          "name": "stdout"
        }
      ]
    },
    {
      "metadata": {
        "colab_type": "code",
        "id": "wmifuQ7Fu--X",
        "outputId": "27eaf42e-5cf3-406e-e9a8-22468286dab7",
        "colab": {
          "base_uri": "https://localhost:8080/",
          "height": 34
        }
      },
      "cell_type": "code",
      "source": [
        "predict(model2, 'Kamikaze album by eminem has to be one of the best albums that came out last year, other than few tracks, evey track was lit', seq_length)"
      ],
      "execution_count": 0,
      "outputs": [
        {
          "output_type": "stream",
          "text": [
            "0.9501\t Positive sentence!\n"
          ],
          "name": "stdout"
        }
      ]
    },
    {
      "metadata": {
        "colab_type": "code",
        "id": "shAzjr2Lu_Br",
        "outputId": "6abec76c-502a-4b07-bf49-c92d5938e9a5",
        "colab": {
          "base_uri": "https://localhost:8080/",
          "height": 34
        }
      },
      "cell_type": "code",
      "source": [
        "sentence = 'Drake published 3 trash albums this year,each song gave pain at different part of my brain  he deserves rotten tomatoes'\n",
        "predict(model2,sentence)"
      ],
      "execution_count": 0,
      "outputs": [
        {
          "output_type": "stream",
          "text": [
            "0.4549\t Negative sentence!\n"
          ],
          "name": "stdout"
        }
      ]
    },
    {
      "metadata": {
        "id": "hFWDi3GWaWld",
        "colab_type": "code",
        "outputId": "ef2d54c3-d9f0-4b06-fedc-89118134f72c",
        "colab": {
          "base_uri": "https://localhost:8080/",
          "height": 34
        }
      },
      "cell_type": "code",
      "source": [
        "predict(model2, 'this was the worst movie i have ever seen', seq_length)"
      ],
      "execution_count": 0,
      "outputs": [
        {
          "output_type": "stream",
          "text": [
            "0.0673\t Negative sentence!\n"
          ],
          "name": "stdout"
        }
      ]
    },
    {
      "metadata": {
        "id": "FQgSeGtkVbFu",
        "colab_type": "code",
        "colab": {}
      },
      "cell_type": "code",
      "source": [
        "#saving the created dictonary for future use\n",
        "np.save(\"vocab_to_int.npy\", vocab_to_int)"
      ],
      "execution_count": 0,
      "outputs": []
    }
  ]
}