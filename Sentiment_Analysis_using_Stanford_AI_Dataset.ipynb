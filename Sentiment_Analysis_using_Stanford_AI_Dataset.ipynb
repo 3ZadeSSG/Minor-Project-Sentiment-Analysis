{
  "nbformat": 4,
  "nbformat_minor": 0,
  "metadata": {
    "colab": {
      "name": "Sentiment Analysis using Stanford AI Dataset.ipynb",
      "version": "0.3.2",
      "provenance": [],
      "include_colab_link": true
    },
    "kernelspec": {
      "name": "python3",
      "display_name": "Python 3"
    },
    "accelerator": "GPU"
  },
  "cells": [
    {
      "cell_type": "markdown",
      "metadata": {
        "id": "view-in-github",
        "colab_type": "text"
      },
      "source": [
        "<a href=\"https://colab.research.google.com/github/3ZadeSSG/Minor-Project-Sentiment-Analysis/blob/master/Sentiment_Analysis_using_Stanford_AI_Dataset.ipynb\" target=\"_parent\"><img src=\"https://colab.research.google.com/assets/colab-badge.svg\" alt=\"Open In Colab\"/></a>"
      ]
    },
    {
      "metadata": {
        "id": "k3kr18m0qK7s",
        "colab_type": "code",
        "colab": {}
      },
      "cell_type": "code",
      "source": [
        "from google.colab import files,drive"
      ],
      "execution_count": 0,
      "outputs": []
    },
    {
      "metadata": {
        "id": "z523O_B3qQR0",
        "colab_type": "code",
        "outputId": "60c4c643-fc27-4957-9d93-f82a2409d42c",
        "colab": {
          "base_uri": "https://localhost:8080/",
          "height": 122
        }
      },
      "cell_type": "code",
      "source": [
        "drive.mount('/content/drive/')"
      ],
      "execution_count": 0,
      "outputs": [
        {
          "output_type": "stream",
          "text": [
            "Go to this URL in a browser: https://accounts.google.com/o/oauth2/auth?client_id=947318989803-6bn6qk8qdgf4n4g3pfee6491hc0brc4i.apps.googleusercontent.com&redirect_uri=urn%3Aietf%3Awg%3Aoauth%3A2.0%3Aoob&scope=email%20https%3A%2F%2Fwww.googleapis.com%2Fauth%2Fdocs.test%20https%3A%2F%2Fwww.googleapis.com%2Fauth%2Fdrive%20https%3A%2F%2Fwww.googleapis.com%2Fauth%2Fdrive.photos.readonly%20https%3A%2F%2Fwww.googleapis.com%2Fauth%2Fpeopleapi.readonly&response_type=code\n",
            "\n",
            "Enter your authorization code:\n",
            "··········\n",
            "Mounted at /content/drive/\n"
          ],
          "name": "stdout"
        }
      ]
    },
    {
      "metadata": {
        "id": "Hgkd5h8BG3N-",
        "colab_type": "code",
        "outputId": "5520bc3a-b453-499f-cbf8-377a9f267bf3",
        "colab": {
          "base_uri": "https://localhost:8080/",
          "height": 217
        }
      },
      "cell_type": "code",
      "source": [
        "# Get the generated helper functions to process the data and create proper datasets to be converted into tensors\n",
        "!wget -c https://raw.githubusercontent.com/3ZadeSSG/Minor-Project-Sentiment-Analysis/master/myModelHelper.py"
      ],
      "execution_count": 0,
      "outputs": [
        {
          "output_type": "stream",
          "text": [
            "--2019-03-30 17:25:10--  https://raw.githubusercontent.com/3ZadeSSG/Minor-Project-Sentiment-Analysis/master/myModelHelper.py\n",
            "Resolving raw.githubusercontent.com (raw.githubusercontent.com)... 151.101.0.133, 151.101.64.133, 151.101.128.133, ...\n",
            "Connecting to raw.githubusercontent.com (raw.githubusercontent.com)|151.101.0.133|:443... connected.\n",
            "HTTP request sent, awaiting response... 200 OK\n",
            "Length: 2509 (2.5K) [text/plain]\n",
            "Saving to: ‘myModelHelper.py’\n",
            "\n",
            "\rmyModelHelper.py      0%[                    ]       0  --.-KB/s               \rmyModelHelper.py    100%[===================>]   2.45K  --.-KB/s    in 0s      \n",
            "\n",
            "2019-03-30 17:25:10 (58.1 MB/s) - ‘myModelHelper.py’ saved [2509/2509]\n",
            "\n"
          ],
          "name": "stdout"
        }
      ]
    },
    {
      "metadata": {
        "id": "85fw4k4rHawu",
        "colab_type": "code",
        "outputId": "c74f1144-7b9d-4780-b30c-8262260ae1a7",
        "colab": {
          "base_uri": "https://localhost:8080/",
          "height": 217
        }
      },
      "cell_type": "code",
      "source": [
        "# Get data directly from url\n",
        "!wget http://ai.stanford.edu/~amaas/data/sentiment/aclImdb_v1.tar.gz"
      ],
      "execution_count": 0,
      "outputs": [
        {
          "output_type": "stream",
          "text": [
            "--2019-03-30 17:25:13--  http://ai.stanford.edu/~amaas/data/sentiment/aclImdb_v1.tar.gz\n",
            "Resolving ai.stanford.edu (ai.stanford.edu)... 171.64.68.10\n",
            "Connecting to ai.stanford.edu (ai.stanford.edu)|171.64.68.10|:80... connected.\n",
            "HTTP request sent, awaiting response... 200 OK\n",
            "Length: 84125825 (80M) [application/x-gzip]\n",
            "Saving to: ‘aclImdb_v1.tar.gz’\n",
            "\n",
            "aclImdb_v1.tar.gz   100%[===================>]  80.23M  23.2MB/s    in 3.5s    \n",
            "\n",
            "2019-03-30 17:25:17 (23.2 MB/s) - ‘aclImdb_v1.tar.gz’ saved [84125825/84125825]\n",
            "\n"
          ],
          "name": "stdout"
        }
      ]
    },
    {
      "metadata": {
        "id": "Fzb4-4g-Hhk1",
        "colab_type": "code",
        "colab": {}
      },
      "cell_type": "code",
      "source": [
        "# Extract data\n",
        "!tar -xvzf aclImdb_v1.tar.gz"
      ],
      "execution_count": 0,
      "outputs": []
    },
    {
      "metadata": {
        "id": "z48JUwW7GYeB",
        "colab_type": "code",
        "colab": {}
      },
      "cell_type": "code",
      "source": [
        "import torch\n",
        "import torch.nn as nn\n",
        "from torch.utils.data import TensorDataset,DataLoader\n",
        "from myModelHelper import *\n",
        "import matplotlib.pyplot as plt\n"
      ],
      "execution_count": 0,
      "outputs": []
    },
    {
      "metadata": {
        "id": "A0zDAkRQGp-O",
        "colab_type": "code",
        "colab": {}
      },
      "cell_type": "code",
      "source": [
        "class SentimentNetwork(nn.Module):\n",
        "  def __init__(self,vocabulary_size,output_size,embedding_dimension,hidden_dimension,number_of_layers,dropout_probability=0.5):\n",
        "    super(SentimentNetwork,self).__init__()\n",
        "    # class data for weight matrix size\n",
        "    self.output_size=output_size\n",
        "    self.number_of_layers=number_of_layers\n",
        "    self.hidden_dimension=hidden_dimension\n",
        "    # create the embedding layer to reduce dimension \n",
        "    # and LSTM layer containing LSTM cells \n",
        "    self.embedding=nn.Embedding(vocabulary_size,embedding_dimension)\n",
        "    self.lstm=nn.LSTM(embedding_dimension,hidden_dimension,number_of_layers,dropout=dropout_probability,batch_first=True)\n",
        "    \n",
        "    # Create dropout layer as a regularization method to reduct overfitting\n",
        "    # this will disable some units in forward pass, thus preventing \n",
        "    # a particular set of node's weights getting updated while others remain unused\n",
        "    self.dropout=nn.Dropout(dropout_probability)\n",
        "    \n",
        "    # attach final  linear layer with sigmoid function\n",
        "   \n",
        "    self.finalLayer=nn.Linear(hidden_dimension,output_size)\n",
        "    self.sigmoid=nn.Sigmoid()\n",
        "   \n",
        "  def forward(self,x,hidden):\n",
        "    batch_size=x.size(0)\n",
        "    embedding_output=self.embedding(x)\n",
        "    \n",
        "    #lstm will take the current input and hidden state as input \n",
        "    # and will generate the output to be feed at the linear layer\n",
        "    lstm_output,hidden=self.lstm(embedding_output,hidden)\n",
        "    lstm_output=lstm_output.contiguous().view(-1,self.hidden_dimension)\n",
        "    \n",
        "    output=self.dropout(lstm_output)\n",
        "    output=self.finalLayer(output)\n",
        "    \n",
        "    #call the sigmoid function on current output of final layer\n",
        "    sigmoid_output=self.sigmoid(output)\n",
        "    sigmoid_output=sigmoid_output.view(batch_size,-1)\n",
        "    #only get the last position output for all batches\n",
        "    sigmoid_output=sigmoid_output[:,-1]\n",
        "    \n",
        "    #current sigmoid output and a hidden state to be fed as input for next pass\n",
        "    # into the LSTM cells, so that they will be dependent on the previous state\n",
        "    return sigmoid_output,hidden\n",
        "  \n",
        "  def initialize_hidden_state(self,batch_size):\n",
        "    # At first the hidden state will not hold any information, hence we need to\n",
        "    # initialize them with zeros\n",
        "    # Number_of_Layers x Batch_Size x Hidden_Dimension\n",
        "    weight=next(self.parameters()).data\n",
        "    if(torch.cuda.is_available()):\n",
        "      # if GPU is available then initialize the weights parallely\n",
        "      hidden=(weight.new(self.number_of_layers,batch_size,self.hidden_dimension).zero_().cuda(),weight.new(self.number_of_layers,batch_size,self.hidden_dimension).zero_().cuda())\n",
        "    else:\n",
        "      hidden=(weight.new(self.number_of_layers,batch_size,self.hidden_dimension).zero_(),weight.new(self.number_of_layers,batch_size,self.hidden_dimension).zero_())\n",
        "      \n",
        "    return hidden\n",
        "      \n",
        "   "
      ],
      "execution_count": 0,
      "outputs": []
    },
    {
      "metadata": {
        "id": "a41iJq2QGqAP",
        "colab_type": "code",
        "colab": {}
      },
      "cell_type": "code",
      "source": [
        "def buildNetwork():\n",
        "  #Our model parameters\n",
        "  vocabulary_size=len(vocab_to_int)+1\n",
        "  output_size=1\n",
        "  embedding_dimension=200\n",
        "  hidden_dimension=256\n",
        "  number_of_layers=2\n",
        "  \n",
        "  model=SentimentNetwork(vocabulary_size,output_size,embedding_dimension,hidden_dimension,number_of_layers)\n",
        "  \n",
        "  # Alpha value\n",
        "  learning_rate=0.003\n",
        "  \n",
        "  # Error calculating formula (Mean Square Error)\n",
        "  criterion = nn.MSELoss() \n",
        " \n",
        "  #Adam optimization technique for first-order gradient-based optimization\n",
        "  optimizer=torch.optim.Adam(model.parameters(),lr=learning_rate)\n",
        "  \n",
        "  return model,criterion,optimizer\n",
        "  "
      ],
      "execution_count": 0,
      "outputs": []
    },
    {
      "metadata": {
        "id": "9uf1QFQPT5Ra",
        "colab_type": "code",
        "colab": {}
      },
      "cell_type": "code",
      "source": [
        "def trainNetwork(model,clip_value,epochs,print_interval,criterion,optimizer):\n",
        "  Iteration=[]\n",
        "  Training_Loss=[]\n",
        "  Validation_Loss=[]\n",
        "  \n",
        "  minimum_validation_loss=np.Inf\n",
        "  \n",
        "  # Since each epoch goes over all data and\n",
        "  # each iteration goes over the data in batches\n",
        "  count=0\n",
        "  \n",
        "  # move model to GPU \n",
        "  model.cuda()\n",
        "  \n",
        "  #put the model into training model so that the gradients will \n",
        "  # be calculated\n",
        "  model.train()\n",
        "  for i in range(epochs):\n",
        "    # for each epoch perform a forward pass for all batches\n",
        "    # and around epoch 4 reduce the learning rate\n",
        "    hidden_state=model.initialize_hidden_state(batch_size)\n",
        "    if(i==3):\n",
        "      print(\"\\n\\nReducing the learning rate!\\n\" )\n",
        "      optimizer=torch.optim.Adam(model.parameters(),lr=0.0002)\n",
        "    \n",
        "    for inputs,labels in train_loader:\n",
        "      count+=1\n",
        "      # move the data to GPU\n",
        "      inputs,labels=inputs.cuda(),labels.cuda()\n",
        "      \n",
        "      #create new variable for hidden state otherwise it will include all\n",
        "      #pervious states\n",
        "      hidden_state=tuple([element.data for element in hidden_state])\n",
        "      \n",
        "      model.zero_grad()\n",
        "      \n",
        "      inputs=inputs.long()\n",
        "      output,hidden_state=model(inputs,hidden_state)\n",
        "      \n",
        "      #calculate the loss to backpropagare to model\n",
        "      #loss=torch.sqrt(criterion(output.squeeze(),labels.float()))\n",
        "      loss=criterion(output.squeeze(),labels.float())\n",
        "      loss.backward()\n",
        "\n",
        "      \n",
        "      nn.utils.clip_grad_norm_(model.parameters(),clip)\n",
        "      optimizer.step()\n",
        "      \n",
        "      if(count%print_interval==0):\n",
        "        temp_hidden=model.initialize_hidden_state(batch_size)\n",
        "        temp_losses=[]\n",
        "        model.eval()\n",
        "        for inputs,labels in validation_loader:\n",
        "          temp_hidden=tuple([element.data for element in temp_hidden])\n",
        "          inputs,labels=inputs.cuda().long(),labels.cuda()\n",
        "          \n",
        "          output,temp_hidden=model(inputs,temp_hidden)\n",
        "          validation_loss=criterion(output.squeeze(),labels.float())\n",
        "          temp_losses.append(validation_loss.item())\n",
        "        \n",
        "        model.train()\n",
        "        print(\"Epoch: {}\\tIteration: {}\\tTraining Loss: {:.7f}\\tValidation Loss: {:.7f}\".format(\n",
        "        (i+1),count,loss.item(),np.mean(temp_losses)))\n",
        "        Iteration.append(count)\n",
        "        Training_Loss.append(loss.item())\n",
        "        Validation_Loss.append(np.mean(temp_losses))\n",
        "        \n",
        "        if np.mean(temp_losses)<minimum_validation_loss:\n",
        "            save_checkpoint(model,\"checkpoint.pth\")\n",
        "            minimum_validation_loss=np.mean(temp_losses)\n",
        "            print(\"Validation loss decreased  hence saving checkpoint successfully\")\n",
        "                  \n",
        "         \n",
        "\n",
        "\n",
        "  plt.plot(Iteration,Training_Loss)\n",
        "  plt.plot(Iteration,Validation_Loss)\n",
        "  plt.xlabel('Iteration')\n",
        "  plt.ylabel('Loss')\n",
        "  plt.legend(['Training Loss','Validation Loss'], loc='upper left')\n",
        "  plt.show()\n",
        "  \n",
        "        "
      ],
      "execution_count": 0,
      "outputs": []
    },
    {
      "metadata": {
        "id": "VMCv-pJkTL58",
        "colab_type": "code",
        "colab": {}
      },
      "cell_type": "code",
      "source": [
        "def save_checkpoint(model,fileLocation):\n",
        "  # save the current state_dict which contains all the weights of the network\n",
        "  torch.save(model.state_dict(),fileLocation)\n",
        "  "
      ],
      "execution_count": 0,
      "outputs": []
    },
    {
      "metadata": {
        "id": "DqJmKTYwTZjC",
        "colab_type": "code",
        "colab": {}
      },
      "cell_type": "code",
      "source": [
        "def load_Checkpoint(fileLocation):\n",
        "  #model=buildNetwork()\n",
        "  model,criterion,optimizer=buildNetwork()\n",
        "  model.load_state_dict(torch.load(fileLocation))\n",
        "  return model"
      ],
      "execution_count": 0,
      "outputs": []
    },
    {
      "metadata": {
        "id": "UB0x9fla3AmK",
        "colab_type": "code",
        "colab": {}
      },
      "cell_type": "code",
      "source": [
        "def checkAccuracy(model,test_loader):\n",
        "  #move model to GPU\n",
        "  model.cuda()\n",
        "  \n",
        "  test_losses=[]\n",
        "  correct_prediction=0\n",
        "  \n",
        "  #set initial state to zero\n",
        "  hidden_state=model.initialize_hidden_state(batch_size)\n",
        "  \n",
        "  # set the model into evaluation mode, so that we don't need to calculate\n",
        "  # the gradients\n",
        "  model.eval()\n",
        "  \n",
        "  for inputs,labels in test_loader:\n",
        "    \n",
        "    # move the data and labels into GPU\n",
        "    inputs,labels=inputs.cuda().long(),labels.cuda().long()\n",
        "    \n",
        "    output,hidden_state=model(inputs,hidden_state)\n",
        "    # labels are initially long or int, we need to conver them into float\n",
        "    # so that loss cab be calculated in float value\n",
        "    test_loss=criterion(output.squeeze(),labels.float())\n",
        "    test_losses.append(test_loss.item())\n",
        "    \n",
        "    # get the prediction either 1 or 0\n",
        "    prediction=torch.round(output.squeeze())\n",
        "    \n",
        "    correct_tensor=prediction.eq(labels.float().view_as(prediction))   \n",
        "    correct=np.squeeze(correct_tensor.cpu().numpy())\n",
        "    correct_prediction+=np.sum(correct)\n",
        "  \n",
        "  #print(np.mean(test_losses))\n",
        "  print(\"Accuracy: {:.4f}\".format(correct_prediction/len(test_loader.dataset)))\n",
        "  "
      ],
      "execution_count": 0,
      "outputs": []
    },
    {
      "metadata": {
        "id": "-DQjhHHKdjS-",
        "colab_type": "code",
        "colab": {}
      },
      "cell_type": "code",
      "source": [
        "def tokenize_sentence(sentence):\n",
        "  sentence=sentence.lower()\n",
        "  \n",
        "  #remove punctuation\n",
        "  sentence=''.join([letter for letter in sentence if letter not in punctuation])\n",
        "  \n",
        "  test_words=sentence.split()\n",
        "  tokens=[]\n",
        "  sample=[]\n",
        "  for word in test_words:\n",
        "      if word in vocab_to_int:\n",
        "          sample.append(word)\n",
        "  tokens.append([vocab_to_int[word] for word in sample])\n",
        "  return tokens"
      ],
      "execution_count": 0,
      "outputs": []
    },
    {
      "metadata": {
        "id": "tFAQve__djXX",
        "colab_type": "code",
        "colab": {}
      },
      "cell_type": "code",
      "source": [
        "def predict(model,sentence,sequence_length=200):\n",
        "  model.cuda()\n",
        "  model.eval()\n",
        "  \n",
        "  test_ints=tokenize_sentence(sentence)\n",
        "  features=featuresPadding(test_ints,sequence_length)\n",
        "  feature_tensor=torch.from_numpy(features)\n",
        "  batch_size=feature_tensor.size(0)\n",
        "  \n",
        "  hidden_state=model.initialize_hidden_state(batch_size)\n",
        "  feature_tensor=feature_tensor.cuda().long()\n",
        "  output,hidden_state=model(feature_tensor,hidden_state)\n",
        "  prediction=torch.round(output.squeeze())\n",
        "  if(prediction.item()==0):\n",
        "    print(\"{:.4f}\\t Positive sentence!\".format(output.item()))\n",
        "  else:\n",
        "    print(\"{:.4f}\\t Negative sentence!\".format(output.item()))\n",
        "  "
      ],
      "execution_count": 0,
      "outputs": []
    },
    {
      "metadata": {
        "id": "KZTaWPd2Gp1X",
        "colab_type": "code",
        "colab": {}
      },
      "cell_type": "code",
      "source": [
        "positiveDataPath=\"aclImdb/train/neg/\"\n",
        "negativeDataPath=\"aclImdb/train/pos/\"\n",
        "fileLocation='/content/drive/My Drive/SEM-III Project/SentimentAnalysisCheckpoint.pth'"
      ],
      "execution_count": 0,
      "outputs": []
    },
    {
      "metadata": {
        "id": "D1EoH7-hGp33",
        "colab_type": "code",
        "colab": {}
      },
      "cell_type": "code",
      "source": [
        "reviews,labels=createData(positiveDataPath,negativeDataPath)"
      ],
      "execution_count": 0,
      "outputs": []
    },
    {
      "metadata": {
        "id": "0yhFfFOzueUL",
        "colab_type": "code",
        "outputId": "91917a27-fba5-4e4d-902e-5d4181ababab",
        "colab": {
          "base_uri": "https://localhost:8080/",
          "height": 35
        }
      },
      "cell_type": "code",
      "source": [
        "len(reviews),len(labels)"
      ],
      "execution_count": 12,
      "outputs": [
        {
          "output_type": "execute_result",
          "data": {
            "text/plain": [
              "(33151741, 225000)"
            ]
          },
          "metadata": {
            "tags": []
          },
          "execution_count": 12
        }
      ]
    },
    {
      "metadata": {
        "id": "DPVaPTNZIbSu",
        "colab_type": "code",
        "colab": {}
      },
      "cell_type": "code",
      "source": [
        "seq_length=200"
      ],
      "execution_count": 0,
      "outputs": []
    },
    {
      "metadata": {
        "id": "Pjak8byWGp5-",
        "colab_type": "code",
        "colab": {}
      },
      "cell_type": "code",
      "source": [
        "features,encoded_labels,vocab_to_int=getFeaturesLabels(reviews,labels,seq_length)\n",
        "\n",
        "train_x,train_y,test_x,test_y,val_x,val_y=createTrainTestValidateData(0.8,features,encoded_labels)"
      ],
      "execution_count": 0,
      "outputs": []
    },
    {
      "metadata": {
        "id": "rP1Y1i4FGp8A",
        "colab_type": "code",
        "colab": {}
      },
      "cell_type": "code",
      "source": [
        "train_data = TensorDataset(torch.from_numpy(train_x), torch.from_numpy(train_y))\n",
        "validation_data = TensorDataset(torch.from_numpy(val_x), torch.from_numpy(val_y))\n",
        "test_data = TensorDataset(torch.from_numpy(test_x), torch.from_numpy(test_y))\n",
        "batch_size=100\n",
        "train_loader = DataLoader(train_data, shuffle=True, batch_size=batch_size)\n",
        "validation_loader = DataLoader(validation_data, shuffle=True, batch_size=batch_size)\n",
        "test_loader = DataLoader(test_data, shuffle=True, batch_size=batch_size)"
      ],
      "execution_count": 0,
      "outputs": []
    },
    {
      "metadata": {
        "id": "vxzyRGHMumss",
        "colab_type": "code",
        "outputId": "4701a838-9527-4f95-c422-f7d5a2b2dc81",
        "colab": {
          "base_uri": "https://localhost:8080/",
          "height": 72
        }
      },
      "cell_type": "code",
      "source": [
        "print(\"Training: \\t\",np.shape(train_x))\n",
        "print(\"Validation: \\t\",np.shape(val_x))\n",
        "print(\"Test: \\t\\t\",np.shape(test_x))\n"
      ],
      "execution_count": 18,
      "outputs": [
        {
          "output_type": "stream",
          "text": [
            "Training: \t (20000, 200)\n",
            "Validation: \t (2500, 200)\n",
            "Test: \t\t (2500, 200)\n"
          ],
          "name": "stdout"
        }
      ]
    },
    {
      "metadata": {
        "id": "UbEv55TFT5UK",
        "colab_type": "code",
        "colab": {}
      },
      "cell_type": "code",
      "source": [
        "model,criterion,optimizer=buildNetwork()"
      ],
      "execution_count": 0,
      "outputs": []
    },
    {
      "metadata": {
        "id": "V3kFoVxm3AeW",
        "colab_type": "code",
        "outputId": "47e1e9e8-9403-4785-c0ca-4112af1bfd7c",
        "colab": {
          "base_uri": "https://localhost:8080/",
          "height": 146
        }
      },
      "cell_type": "code",
      "source": [
        "model.cuda()"
      ],
      "execution_count": 20,
      "outputs": [
        {
          "output_type": "execute_result",
          "data": {
            "text/plain": [
              "SentimentNetwork(\n",
              "  (embedding): Embedding(121365, 200)\n",
              "  (lstm): LSTM(200, 256, num_layers=2, batch_first=True, dropout=0.5)\n",
              "  (dropout): Dropout(p=0.5)\n",
              "  (finalLayer): Linear(in_features=256, out_features=1, bias=True)\n",
              "  (sigmoid): Sigmoid()\n",
              ")"
            ]
          },
          "metadata": {
            "tags": []
          },
          "execution_count": 20
        }
      ]
    },
    {
      "metadata": {
        "id": "ZS9jGePv3Ag1",
        "colab_type": "code",
        "colab": {}
      },
      "cell_type": "code",
      "source": [
        "clip=5 \n",
        "print_interval = 100\n",
        "epochs = 16 "
      ],
      "execution_count": 0,
      "outputs": []
    },
    {
      "metadata": {
        "id": "enEkdI103Ajl",
        "colab_type": "code",
        "outputId": "e3c3bd8c-4785-4036-d319-2e00b233f194",
        "colab": {
          "base_uri": "https://localhost:8080/",
          "height": 1188
        }
      },
      "cell_type": "code",
      "source": [
        "import time\n",
        "start_time=time.time()\n",
        "trainNetwork(model,clip,epochs,print_interval,criterion,optimizer)\n",
        "print(\"\\n\\nTraining Time: {}\".format(time.time()-start_time))"
      ],
      "execution_count": 22,
      "outputs": [
        {
          "output_type": "stream",
          "text": [
            "Epoch: 1\tIteration: 100\tTraining Loss: 0.1953190\tValidation Loss: 0.3088287\n",
            "Validation loss decreased  hence saving checkpoint successfully\n",
            "Epoch: 1\tIteration: 200\tTraining Loss: 0.2002766\tValidation Loss: 0.4275018\n",
            "Epoch: 2\tIteration: 300\tTraining Loss: 0.1409329\tValidation Loss: 0.2276230\n",
            "Validation loss decreased  hence saving checkpoint successfully\n",
            "Epoch: 2\tIteration: 400\tTraining Loss: 0.1372942\tValidation Loss: 0.2114054\n",
            "Validation loss decreased  hence saving checkpoint successfully\n",
            "Epoch: 3\tIteration: 500\tTraining Loss: 0.0410355\tValidation Loss: 0.1487777\n",
            "Validation loss decreased  hence saving checkpoint successfully\n",
            "Epoch: 3\tIteration: 600\tTraining Loss: 0.0650938\tValidation Loss: 0.1548570\n",
            "\n",
            "\n",
            "Reducing the learning rate!\n",
            "\n",
            "Epoch: 4\tIteration: 700\tTraining Loss: 0.0289792\tValidation Loss: 0.1648272\n",
            "Epoch: 4\tIteration: 800\tTraining Loss: 0.0606774\tValidation Loss: 0.1606312\n",
            "Epoch: 5\tIteration: 900\tTraining Loss: 0.0533945\tValidation Loss: 0.1883774\n",
            "Epoch: 5\tIteration: 1000\tTraining Loss: 0.0330595\tValidation Loss: 0.1483866\n",
            "Validation loss decreased  hence saving checkpoint successfully\n",
            "Epoch: 6\tIteration: 1100\tTraining Loss: 0.0133664\tValidation Loss: 0.1839717\n",
            "Epoch: 6\tIteration: 1200\tTraining Loss: 0.0346078\tValidation Loss: 0.1461953\n",
            "Validation loss decreased  hence saving checkpoint successfully\n",
            "Epoch: 7\tIteration: 1300\tTraining Loss: 0.0086336\tValidation Loss: 0.1577199\n",
            "Epoch: 7\tIteration: 1400\tTraining Loss: 0.0170425\tValidation Loss: 0.1751968\n",
            "Epoch: 8\tIteration: 1500\tTraining Loss: 0.0282017\tValidation Loss: 0.1727214\n",
            "Epoch: 8\tIteration: 1600\tTraining Loss: 0.0389979\tValidation Loss: 0.1735086\n",
            "Epoch: 9\tIteration: 1700\tTraining Loss: 0.0400291\tValidation Loss: 0.1642941\n",
            "Epoch: 9\tIteration: 1800\tTraining Loss: 0.0109463\tValidation Loss: 0.1737372\n",
            "Epoch: 10\tIteration: 1900\tTraining Loss: 0.0262126\tValidation Loss: 0.1918646\n",
            "Epoch: 10\tIteration: 2000\tTraining Loss: 0.0200560\tValidation Loss: 0.1906199\n",
            "Epoch: 11\tIteration: 2100\tTraining Loss: 0.0014742\tValidation Loss: 0.1574152\n",
            "Epoch: 11\tIteration: 2200\tTraining Loss: 0.0404301\tValidation Loss: 0.1749055\n",
            "Epoch: 12\tIteration: 2300\tTraining Loss: 0.0061625\tValidation Loss: 0.1940192\n",
            "Epoch: 12\tIteration: 2400\tTraining Loss: 0.0117094\tValidation Loss: 0.1774032\n",
            "Epoch: 13\tIteration: 2500\tTraining Loss: 0.0302985\tValidation Loss: 0.1998950\n",
            "Epoch: 13\tIteration: 2600\tTraining Loss: 0.0019248\tValidation Loss: 0.1905114\n",
            "Epoch: 14\tIteration: 2700\tTraining Loss: 0.0204232\tValidation Loss: 0.1675671\n",
            "Epoch: 14\tIteration: 2800\tTraining Loss: 0.0288972\tValidation Loss: 0.1965390\n",
            "Epoch: 15\tIteration: 2900\tTraining Loss: 0.0104200\tValidation Loss: 0.2071331\n",
            "Epoch: 15\tIteration: 3000\tTraining Loss: 0.0019182\tValidation Loss: 0.1614993\n",
            "Epoch: 16\tIteration: 3100\tTraining Loss: 0.0108597\tValidation Loss: 0.2058514\n",
            "Epoch: 16\tIteration: 3200\tTraining Loss: 0.0099391\tValidation Loss: 0.1873174\n"
          ],
          "name": "stdout"
        },
        {
          "output_type": "display_data",
          "data": {
            "image/png": "[encoded data removed]",
            "text/plain": [
              "<Figure size 576x396 with 1 Axes>"
            ]
          },
          "metadata": {
            "tags": []
          }
        },
        {
          "output_type": "stream",
          "text": [
            "\n",
            "\n",
            "Training Time: 537.156453371048\n"
          ],
          "name": "stdout"
        }
      ]
    },
    {
      "metadata": {
        "id": "eOdZ7QRfdjVt",
        "colab_type": "code",
        "outputId": "e6705aff-64bc-48d7-bcb2-d03a58cac44b",
        "colab": {
          "base_uri": "https://localhost:8080/",
          "height": 35
        }
      },
      "cell_type": "code",
      "source": [
        "checkAccuracy(model,test_loader)"
      ],
      "execution_count": 23,
      "outputs": [
        {
          "output_type": "stream",
          "text": [
            "Accuracy: 0.7844\n"
          ],
          "name": "stdout"
        }
      ]
    },
    {
      "metadata": {
        "id": "eUNkUWNlT5W5",
        "colab_type": "code",
        "outputId": "957f36ba-8b4e-4f88-b478-fbaea8886dc1",
        "colab": {
          "base_uri": "https://localhost:8080/",
          "height": 35
        }
      },
      "cell_type": "code",
      "source": [
        "checkAccuracy(model,train_loader)"
      ],
      "execution_count": 24,
      "outputs": [
        {
          "output_type": "stream",
          "text": [
            "Accuracy: 0.9867\n"
          ],
          "name": "stdout"
        }
      ]
    },
    {
      "metadata": {
        "id": "GoKlgqs5u-7P",
        "colab_type": "code",
        "outputId": "51af0917-028d-4bc9-f95d-63902f7a7349",
        "colab": {
          "base_uri": "https://localhost:8080/",
          "height": 35
        }
      },
      "cell_type": "code",
      "source": [
        "checkAccuracy(model,validation_loader)"
      ],
      "execution_count": 25,
      "outputs": [
        {
          "output_type": "stream",
          "text": [
            "Accuracy: 0.7816\n"
          ],
          "name": "stdout"
        }
      ]
    },
    {
      "metadata": {
        "id": "2mZHiuQcdjZ6",
        "colab_type": "code",
        "colab": {}
      },
      "cell_type": "code",
      "source": [
        "# saving the trained model to google drive\n",
        "save_checkpoint(model,fileLocation)"
      ],
      "execution_count": 0,
      "outputs": []
    },
    {
      "metadata": {
        "id": "T-iaBml6aJJX",
        "colab_type": "code",
        "colab": {}
      },
      "cell_type": "code",
      "source": [
        "model2=load_Checkpoint(\"checkpoint.pth\")"
      ],
      "execution_count": 0,
      "outputs": []
    },
    {
      "metadata": {
        "id": "b7gbNbK6bIa0",
        "colab_type": "code",
        "colab": {
          "base_uri": "https://localhost:8080/",
          "height": 35
        },
        "outputId": "698861da-fc98-479c-da82-bc44ffa248c9"
      },
      "cell_type": "code",
      "source": [
        "checkAccuracy(model2.cuda(),test_loader)"
      ],
      "execution_count": 43,
      "outputs": [
        {
          "output_type": "stream",
          "text": [
            "Accuracy: 0.8052\n"
          ],
          "name": "stdout"
        }
      ]
    },
    {
      "metadata": {
        "id": "KfsrBvaDdVwH",
        "colab_type": "code",
        "colab": {
          "base_uri": "https://localhost:8080/",
          "height": 35
        },
        "outputId": "1a418bc2-3b2f-4ef6-c329-408ca8e9086c"
      },
      "cell_type": "code",
      "source": [
        "checkAccuracy(model2.cuda(),train_loader)"
      ],
      "execution_count": 44,
      "outputs": [
        {
          "output_type": "stream",
          "text": [
            "Accuracy: 0.9660\n"
          ],
          "name": "stdout"
        }
      ]
    },
    {
      "metadata": {
        "id": "VU-JgA8ddZc8",
        "colab_type": "code",
        "colab": {
          "base_uri": "https://localhost:8080/",
          "height": 35
        },
        "outputId": "f840da46-8809-429a-bd0a-aa58d6c2adff"
      },
      "cell_type": "code",
      "source": [
        "checkAccuracy(model2.cuda(),validation_loader)"
      ],
      "execution_count": 45,
      "outputs": [
        {
          "output_type": "stream",
          "text": [
            "Accuracy: 0.8036\n"
          ],
          "name": "stdout"
        }
      ]
    },
    {
      "metadata": {
        "id": "5k9494IFbLgP",
        "colab_type": "code",
        "colab": {}
      },
      "cell_type": "code",
      "source": [
        ""
      ],
      "execution_count": 0,
      "outputs": []
    },
    {
      "metadata": {
        "id": "wmifuQ7Fu--X",
        "colab_type": "code",
        "outputId": "1d9faafb-a95d-4bd6-a97d-d949dbcf9743",
        "colab": {
          "base_uri": "https://localhost:8080/",
          "height": 34
        }
      },
      "cell_type": "code",
      "source": [
        "predict(model, 'Kamikaze album by eminem has to be one of the best albums that came out last year, other than few tracks, evey track was lit', seq_length)"
      ],
      "execution_count": 0,
      "outputs": [
        {
          "output_type": "stream",
          "text": [
            "0.1061\t Positive sentence!\n"
          ],
          "name": "stdout"
        }
      ]
    },
    {
      "metadata": {
        "id": "shAzjr2Lu_Br",
        "colab_type": "code",
        "outputId": "20687a0e-d30c-4fae-cefa-8a0db5b1f0f1",
        "colab": {
          "base_uri": "https://localhost:8080/",
          "height": 34
        }
      },
      "cell_type": "code",
      "source": [
        "sentence = 'Drake published 3 trash albums this year, each track gave pain at different parts of my brain, he deserves rotten tomatoes'\n",
        "predict(model,sentence)"
      ],
      "execution_count": 0,
      "outputs": [
        {
          "output_type": "stream",
          "text": [
            "0.9934\t Negative sentence!\n"
          ],
          "name": "stdout"
        }
      ]
    }
  ]
}